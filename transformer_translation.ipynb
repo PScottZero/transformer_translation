{
  "cells": [
    {
      "cell_type": "markdown",
      "metadata": {
        "id": "aX6qM_ZScw0m"
      },
      "source": [
        "# Machine Translation With Transformers\n",
        "Created by Paul Scott<br>\n",
        "Last updated August 23<sup>rd</sup>, 2022"
      ]
    },
    {
      "cell_type": "markdown",
      "metadata": {
        "id": "7oPs9H3GS1CR"
      },
      "source": [
        "### References\n",
        "* https://www.tensorflow.org/text/tutorials/nmt_with_attention\n",
        "* https://www.tensorflow.org/text/tutorials/transformer"
      ]
    },
    {
      "cell_type": "markdown",
      "metadata": {
        "id": "qN2VM0oj1X5c"
      },
      "source": [
        "# Setup"
      ]
    },
    {
      "cell_type": "markdown",
      "metadata": {
        "id": "cYgNAawdySzc"
      },
      "source": [
        "### Install Packages"
      ]
    },
    {
      "cell_type": "code",
      "execution_count": null,
      "metadata": {
        "id": "8uZMXJsxCakS"
      },
      "outputs": [],
      "source": [
        "%%capture\n",
        "%pip install stanza"
      ]
    },
    {
      "cell_type": "markdown",
      "metadata": {
        "id": "i1NTlQvJySzw"
      },
      "source": [
        "### Imports"
      ]
    },
    {
      "cell_type": "code",
      "execution_count": 4,
      "metadata": {
        "id": "6uvPvzGFrbiW"
      },
      "outputs": [],
      "source": [
        "import tensorflow as tf\n",
        "import tensorflow_probability as tfp\n",
        "from tensorflow import keras\n",
        "from tensorflow.keras import models, layers, optimizers, losses, metrics, callbacks\n",
        "import matplotlib.pyplot as plt\n",
        "from collections import Counter\n",
        "from IPython import display\n",
        "import numpy as np\n",
        "import pandas as pd\n",
        "import stanza\n",
        "import pickle\n",
        "import time\n",
        "import re\n",
        "import os\n",
        "\n",
        "%matplotlib inline\n",
        "%config InlineBackend.figure_format = 'retina'"
      ]
    },
    {
      "cell_type": "markdown",
      "metadata": {
        "id": "XQ52fw-vulYh"
      },
      "source": [
        "### Helper Functions"
      ]
    },
    {
      "cell_type": "code",
      "execution_count": 5,
      "metadata": {
        "id": "sTSscQPjunMK"
      },
      "outputs": [],
      "source": [
        "language_codes = {\n",
        "  'arabic': 'ar', 'chinese': 'zh', 'dutch': 'nl', 'english': 'en',\n",
        "  'french': 'fr', 'german': 'de', 'greek': 'el', 'hindi': 'hi',\n",
        "  'italian': 'it', 'japanese': 'ja', 'korean': 'ko', 'portuguese': 'pt',\n",
        "  'romanian': 'ro', 'russian': 'ru', 'spanish': 'es', 'ukrainian': 'uk'\n",
        "}\n",
        "\n",
        "\n",
        "def save_layer_as_pickle(obj, file):\n",
        "  pkl = {'config': obj.get_config(), 'weights': obj.get_weights()}\n",
        "  pickle.dump(pkl, open(file, 'wb'))\n",
        "\n",
        "\n",
        "def load_pickle_as_layer(file, layer_type):\n",
        "  pkl = pickle.load(open(file, 'rb'))\n",
        "  vectorizer = layer_type.from_config(pkl['config'])\n",
        "  vectorizer.set_weights(pkl['weights'])\n",
        "  return vectorizer\n",
        "\n",
        "\n",
        "def make_dir(dir):\n",
        "  if not os.path.isdir(dir):\n",
        "      os.makedirs(dir)"
      ]
    },
    {
      "cell_type": "markdown",
      "metadata": {
        "id": "ubzScQYIGOqP"
      },
      "source": [
        "### Set Environment Directory"
      ]
    },
    {
      "cell_type": "code",
      "execution_count": 6,
      "metadata": {
        "id": "WrHaHiDMGOR1"
      },
      "outputs": [],
      "source": [
        "# use google drive or local environment\n",
        "try:\n",
        "  from google.colab import output\n",
        "  output.enable_custom_widget_manager()\n",
        "  env_dir = 'drive/MyDrive/colab_envs/transformer_translation'\n",
        "except:\n",
        "  env_dir = '.'"
      ]
    },
    {
      "cell_type": "markdown",
      "metadata": {
        "id": "h_S-4Y2Z1cWW"
      },
      "source": [
        "# Preprocessing"
      ]
    },
    {
      "cell_type": "markdown",
      "metadata": {
        "id": "Nz72oagO1J8t"
      },
      "source": [
        "### Load Sentence Pairs"
      ]
    },
    {
      "cell_type": "code",
      "execution_count": 11,
      "metadata": {
        "id": "b74X9mvmv_yv"
      },
      "outputs": [],
      "source": [
        "language = 'portuguese'\n",
        "invert = False\n",
        "\n",
        "input_language = language if invert else 'english'\n",
        "target_language = 'english' if invert else language\n",
        "\n",
        "with open(f'{env_dir}/sentence_pairs/{language}.txt', 'r') as f:\n",
        "  sentence_pairs = [tuple(line.split('\\t')[:2]) for line in f.readlines()]\n",
        "\n",
        "input_index = 1 if invert else 0\n",
        "target_index = 0 if invert else 1\n",
        "\n",
        "# split sentence pairs into inputs and targets\n",
        "inputs = [sentence_pair[input_index] for sentence_pair in sentence_pairs]\n",
        "targets = [sentence_pair[target_index] for sentence_pair in sentence_pairs]"
      ]
    },
    {
      "cell_type": "markdown",
      "metadata": {
        "id": "300bFvNFpBFl"
      },
      "source": [
        "### Show Sample Sentence Pairs"
      ]
    },
    {
      "cell_type": "code",
      "execution_count": 12,
      "metadata": {
        "colab": {
          "base_uri": "https://localhost:8080/",
          "height": 363
        },
        "id": "eeoOdVyho_D8",
        "outputId": "eb3b8c43-a20b-41ec-99ed-75b0ffaead49"
      },
      "outputs": [
        {
          "data": {
            "text/html": [
              "<div>\n",
              "<style scoped>\n",
              "    .dataframe tbody tr th:only-of-type {\n",
              "        vertical-align: middle;\n",
              "    }\n",
              "\n",
              "    .dataframe tbody tr th {\n",
              "        vertical-align: top;\n",
              "    }\n",
              "\n",
              "    .dataframe thead th {\n",
              "        text-align: right;\n",
              "    }\n",
              "</style>\n",
              "<table border=\"1\" class=\"dataframe\">\n",
              "  <thead>\n",
              "    <tr style=\"text-align: right;\">\n",
              "      <th></th>\n",
              "      <th>english</th>\n",
              "      <th>portuguese</th>\n",
              "    </tr>\n",
              "  </thead>\n",
              "  <tbody>\n",
              "    <tr>\n",
              "      <th>0</th>\n",
              "      <td>I spent all day working yesterday.</td>\n",
              "      <td>Ontem fiquei trabalhando o dia inteiro.</td>\n",
              "    </tr>\n",
              "    <tr>\n",
              "      <th>1</th>\n",
              "      <td>Do you think I should go alone?</td>\n",
              "      <td>Você acha que eu deveria ir sozinho?</td>\n",
              "    </tr>\n",
              "    <tr>\n",
              "      <th>2</th>\n",
              "      <td>Your reputation precedes you.</td>\n",
              "      <td>Você faz jus à sua reputação.</td>\n",
              "    </tr>\n",
              "    <tr>\n",
              "      <th>3</th>\n",
              "      <td>Tom does that when he's sleepy.</td>\n",
              "      <td>O Tom faz isso quando ele está com sono.</td>\n",
              "    </tr>\n",
              "    <tr>\n",
              "      <th>4</th>\n",
              "      <td>The bear caught a salmon in the river and ate it.</td>\n",
              "      <td>O urso pegou um salmão no rio e o comeu.</td>\n",
              "    </tr>\n",
              "    <tr>\n",
              "      <th>5</th>\n",
              "      <td>Probably, it'll snow tomorrow.</td>\n",
              "      <td>Provavelmente vai nevar amanhã.</td>\n",
              "    </tr>\n",
              "    <tr>\n",
              "      <th>6</th>\n",
              "      <td>We have two kids.</td>\n",
              "      <td>Temos dois filhos.</td>\n",
              "    </tr>\n",
              "    <tr>\n",
              "      <th>7</th>\n",
              "      <td>Have you made up your mind about what you're g...</td>\n",
              "      <td>As senhoras já estão certas a respeito do pres...</td>\n",
              "    </tr>\n",
              "    <tr>\n",
              "      <th>8</th>\n",
              "      <td>You're free to talk with anyone.</td>\n",
              "      <td>Você pode conversar com quem quiser.</td>\n",
              "    </tr>\n",
              "    <tr>\n",
              "      <th>9</th>\n",
              "      <td>He went down the hill.</td>\n",
              "      <td>Ele desceu o morro.</td>\n",
              "    </tr>\n",
              "  </tbody>\n",
              "</table>\n",
              "</div>"
            ],
            "text/plain": [
              "                                             english  \\\n",
              "0                 I spent all day working yesterday.   \n",
              "1                    Do you think I should go alone?   \n",
              "2                      Your reputation precedes you.   \n",
              "3                    Tom does that when he's sleepy.   \n",
              "4  The bear caught a salmon in the river and ate it.   \n",
              "5                     Probably, it'll snow tomorrow.   \n",
              "6                                  We have two kids.   \n",
              "7  Have you made up your mind about what you're g...   \n",
              "8                   You're free to talk with anyone.   \n",
              "9                             He went down the hill.   \n",
              "\n",
              "                                          portuguese  \n",
              "0            Ontem fiquei trabalhando o dia inteiro.  \n",
              "1               Você acha que eu deveria ir sozinho?  \n",
              "2                      Você faz jus à sua reputação.  \n",
              "3           O Tom faz isso quando ele está com sono.  \n",
              "4           O urso pegou um salmão no rio e o comeu.  \n",
              "5                    Provavelmente vai nevar amanhã.  \n",
              "6                                 Temos dois filhos.  \n",
              "7  As senhoras já estão certas a respeito do pres...  \n",
              "8               Você pode conversar com quem quiser.  \n",
              "9                                Ele desceu o morro.  "
            ]
          },
          "execution_count": 12,
          "metadata": {},
          "output_type": "execute_result"
        }
      ],
      "source": [
        "example_inputs, example_targets = [], []\n",
        "for _ in range(10):\n",
        "  rand_index = np.random.randint(len(inputs))\n",
        "  example_inputs.append(inputs[rand_index])\n",
        "  example_targets.append(targets[rand_index])\n",
        "\n",
        "pd.DataFrame({input_language: example_inputs, target_language: example_targets})"
      ]
    },
    {
      "cell_type": "markdown",
      "metadata": {
        "id": "xIZHxehEigpN"
      },
      "source": [
        "### Tokenize Sentences"
      ]
    },
    {
      "cell_type": "code",
      "execution_count": 13,
      "metadata": {
        "colab": {
          "base_uri": "https://localhost:8080/",
          "height": 567,
          "referenced_widgets": [
            "cbf5d66be0e84ba08e7bf49b67cc0d9c",
            "5d70964e300c49f580644064bbd7bfc9",
            "adc166750eb34a44a778d82c67961689",
            "73868db973bb4c3cb26cb4a30f5522ce",
            "cceb6d650c324cdfb72f1139e2ec48a9",
            "16813379fc7a4b0d8cdf05b16cd50d49",
            "0108a155ffc64b5a93ba7dadceeda5a0",
            "351eb5b8d052498ca677d0af6cf63195",
            "fa43dfa6653e4c1eaab8de06090775e4",
            "14b081c3546642dabb8c23b1eca5d664",
            "0288a77ce4bd4397a26eb4b042887b35",
            "a132c1b3faf0458aae943e7de4e0e3a1",
            "b6d4135c7abc4d22b40d53b9b05d5c61",
            "a52742efe28c4a9a882b6131c589f5cf",
            "4fae01be81144d3faf3a4939e463ad13",
            "a069a1d139834fb99c5dab35e5ec8bcd",
            "e4789ba924e746a3ab1a1cd81076f81e",
            "63313dff10e048238e7a2fbe296e62b6",
            "149b70360972424da423ed34dd37ceb4",
            "442b21e6abb840c5bd185ccde0eee85c",
            "38891035308b4882a0ff8e19a94272d0",
            "7eb1127d68ca4059b1754ea20b32ed13",
            "3a2972f5cd094cbcb33b81a4e071b100",
            "64f3a8a5f0834b20866c5af766a35bb7",
            "cd06e7becf374cd2bc808ecb16f53411",
            "1db38bc9d290460fa83de211a8e85962",
            "0bf30889ee6749cdbfcd7248153afb26",
            "b53550d89bc64925b71963044680b99e",
            "9c70885b4a7845e59059e7b3f7b781f2",
            "14426096182043cca192339e3a7852ad",
            "50e58b673030419da2386d04117fca48",
            "3e295836ee164c838ead50b2b9523cd6",
            "924af9b2f7e24be98f28b6a2594b6c73",
            "dfcea1f1983244738f01ded897b3c2bc",
            "294b240e622d4e75b0c26fa9d7aaf0ac",
            "e996b195709549aa81b1e918eb07c26e",
            "5b700b65e4534850bbc24956f6ac3d90",
            "506223e55d374457bfebd764231398a8",
            "01fb436d45a24d6ca6d4215b33dfbcb5",
            "5f9beec749c347c39e708aa80368905a",
            "66908018c4a744b0ad64fc04a169b06f",
            "3458046c184e4524a1cfa5c06f9de31c",
            "2e38a5bbc44745ab9271d75c3cc3dc4d",
            "dca06e6ea46f4aceb45598d344ec0104"
          ]
        },
        "id": "VmbQm3v5igVl",
        "outputId": "09f30319-bd53-4a19-9711-004f6a8e7b2c"
      },
      "outputs": [
        {
          "name": "stderr",
          "output_type": "stream",
          "text": [
            "Downloading https://raw.githubusercontent.com/stanfordnlp/stanza-resources/main/resources_1.3.0.json: 142kB [00:00, 31.2MB/s]                    \n",
            "2022-08-25 17:12:08 INFO: Downloading default packages for language: en (English)...\n",
            "2022-08-25 17:12:10 INFO: File exists: /Users/paulscott/stanza_resources/en/default.zip.\n",
            "2022-08-25 17:12:13 INFO: Finished downloading models and saved to /Users/paulscott/stanza_resources.\n",
            "Downloading https://raw.githubusercontent.com/stanfordnlp/stanza-resources/main/resources_1.3.0.json: 142kB [00:00, 27.6MB/s]                    \n",
            "2022-08-25 17:12:13 INFO: Downloading default packages for language: pt (Portuguese)...\n",
            "Downloading https://huggingface.co/stanfordnlp/stanza-pt/resolve/v1.3.0/models/default.zip: 100%|██████████| 209M/209M [00:14<00:00, 14.9MB/s] \n",
            "2022-08-25 17:12:30 INFO: Finished downloading models and saved to /Users/paulscott/stanza_resources.\n",
            "2022-08-25 17:12:30 INFO: Loading these models for language: en (English):\n",
            "========================\n",
            "| Processor | Package  |\n",
            "------------------------\n",
            "| tokenize  | combined |\n",
            "========================\n",
            "\n",
            "2022-08-25 17:12:30 INFO: Use device: cpu\n",
            "2022-08-25 17:12:30 INFO: Loading: tokenize\n",
            "2022-08-25 17:12:30 INFO: Done loading processors!\n",
            "2022-08-25 17:12:30 WARNING: Language pt package default expects mwt, which has been added\n",
            "2022-08-25 17:12:30 INFO: Loading these models for language: pt (Portuguese):\n",
            "=======================\n",
            "| Processor | Package |\n",
            "-----------------------\n",
            "| tokenize  | bosque  |\n",
            "| mwt       | bosque  |\n",
            "=======================\n",
            "\n",
            "2022-08-25 17:12:30 INFO: Use device: cpu\n",
            "2022-08-25 17:12:30 INFO: Loading: tokenize\n",
            "2022-08-25 17:12:30 INFO: Loading: mwt\n",
            "2022-08-25 17:12:30 INFO: Done loading processors!\n",
            "/Users/paulscott/opt/anaconda3/lib/python3.9/site-packages/stanza/models/common/beam.py:86: UserWarning: __floordiv__ is deprecated, and its behavior will change in a future version of pytorch. It currently rounds toward 0 (like the 'trunc' function NOT 'floor'). This results in incorrect rounding for negative values. To keep the current behavior, use torch.div(a, b, rounding_mode='trunc'), or for actual floor division, use torch.div(a, b, rounding_mode='floor').\n",
            "  prevK = bestScoresId // numWords\n"
          ]
        }
      ],
      "source": [
        "def tokenize(tokenizer, sentences, return_vocab_size=False, add_start_end=False):\n",
        "  docs = [stanza.Document([], text=s) for s in sentences]\n",
        "  tokenized = tokenizer(docs)\n",
        "  tokenized = [[token.text.lower() for token in tokens.iter_tokens()] for tokens in tokenized]\n",
        "\n",
        "  if add_start_end:\n",
        "    tokenized = [['[START]'] + tokens + ['[END]'] for tokens in tokenized]\n",
        "  \n",
        "  if return_vocab_size:\n",
        "    token_counter = Counter()\n",
        "    for tokens in tokenized:\n",
        "      for token in tokens:\n",
        "        token_counter[token] += 1\n",
        "\n",
        "  tokenized = [' '.join(tokens) for tokens in tokenized]\n",
        "\n",
        "  if return_vocab_size:\n",
        "    return tokenized, len(token_counter) + 2\n",
        "  else:\n",
        "    return tokenized\n",
        "\n",
        "\n",
        "\n",
        "input_language_code = language_codes[language if invert else 'english']\n",
        "target_language_code = language_codes['english' if invert else language]\n",
        "\n",
        "# download stanza data\n",
        "stanza.download(input_language_code)\n",
        "stanza.download(target_language_code)\n",
        "\n",
        "# create tokenizers\n",
        "input_tokenizer = stanza.Pipeline(lang=input_language_code, processors='tokenize')\n",
        "target_tokenizer = stanza.Pipeline(lang=target_language_code, processors='tokenize')\n",
        "\n",
        "# tokenize sentence pairs\n",
        "inputs_tokenized, input_vocab_size = tokenize(input_tokenizer, inputs, return_vocab_size=True)\n",
        "targets_tokenized, target_vocab_size = tokenize(target_tokenizer, targets, return_vocab_size=True, add_start_end=True)"
      ]
    },
    {
      "cell_type": "markdown",
      "metadata": {
        "id": "FdAF3yCBk_yA"
      },
      "source": [
        "### Create Text Processors"
      ]
    },
    {
      "cell_type": "code",
      "execution_count": null,
      "metadata": {
        "id": "qpNv11m8k_a_"
      },
      "outputs": [],
      "source": [
        "# define text vectorization layers\n",
        "input_vectorizer = layers.TextVectorization(input_vocab_size, standardize=None)\n",
        "target_vectorizer = layers.TextVectorization(target_vocab_size, standardize=None)\n",
        "\n",
        "# adapt vectorizers to inputs and targets\n",
        "input_vectorizer.adapt(inputs_tokenized)\n",
        "target_vectorizer.adapt(targets_tokenized)\n",
        "\n",
        "# define target index to token mapping layer\n",
        "target_token_from_index = layers.StringLookup(vocabulary=target_vectorizer.get_vocabulary(), mask_token='', invert=True)"
      ]
    },
    {
      "cell_type": "markdown",
      "metadata": {
        "id": "Gnz6VHnekgVW"
      },
      "source": [
        "### Create Train And Test Sets\n",
        "\n"
      ]
    },
    {
      "cell_type": "code",
      "execution_count": null,
      "metadata": {
        "id": "XP9yYZ8FkiuO"
      },
      "outputs": [],
      "source": [
        "batch_size = 128\n",
        "train_test_split = 0.9\n",
        "\n",
        "dataset = tf.data.Dataset.from_tensor_slices((inputs_tokenized, targets_tokenized))\n",
        "\n",
        "train_size = int(len(dataset) * train_test_split)\n",
        "test_size = len(dataset) - train_size\n",
        "\n",
        "train_dataset = dataset.take(train_size).shuffle(train_size, reshuffle_each_iteration=True).batch(batch_size)\n",
        "test_dataset = dataset.skip(train_size).shuffle(test_size, reshuffle_each_iteration=True).batch(batch_size)"
      ]
    },
    {
      "cell_type": "markdown",
      "metadata": {
        "id": "SY55uqvLcnSl"
      },
      "source": [
        "# Model Functions"
      ]
    },
    {
      "cell_type": "code",
      "execution_count": null,
      "metadata": {
        "id": "taiQmsrC7ikr"
      },
      "outputs": [],
      "source": [
        "def create_transformer(num_layers, num_heads, embedding_dim, ff_dim,\n",
        "                       input_vocab_size, target_vocab_size,\n",
        "                       dropout_rate=0.1, max_tokens=128):\n",
        "  input_tokens = keras.Input(shape=(None,), dtype=tf.int64, name='input_tokens')\n",
        "  target_tokens = keras.Input(shape=(None,), dtype=tf.int64, name='target_tokens')\n",
        "\n",
        "  padding_mask, look_ahead_mask = create_masks(input_tokens, target_tokens)\n",
        "\n",
        "  encoder_out = encoder(input_tokens, padding_mask, num_layers, num_heads,\n",
        "                        embedding_dim, ff_dim, input_vocab_size, dropout_rate, max_tokens)\n",
        "  \n",
        "  decoder_out, attentions = decoder(target_tokens, encoder_out, look_ahead_mask, padding_mask,\n",
        "                                    num_layers, num_heads, embedding_dim, ff_dim,\n",
        "                                    target_vocab_size, dropout_rate, max_tokens)\n",
        "  \n",
        "  out = layers.Dense(target_vocab_size)(decoder_out)\n",
        "\n",
        "  transformer = keras.Model(inputs=[input_tokens, target_tokens], outputs=[out, attentions])\n",
        "\n",
        "  return transformer\n",
        "\n",
        "\n",
        "def encoder(x, padding_mask, num_layers, num_heads, \n",
        "            embedding_dim, ff_dim, vocab_size,\n",
        "            dropout_rate, max_tokens):\n",
        "  seq_len = tf.shape(x)[1]\n",
        "\n",
        "  x = layers.Embedding(vocab_size, embedding_dim)(x)\n",
        "  x *= tf.math.sqrt(tf.cast(embedding_dim, tf.float32))\n",
        "  x += positional_encoding(max_tokens, embedding_dim)[:, :seq_len, :]\n",
        "\n",
        "  x = layers.Dropout(dropout_rate)(x)\n",
        "\n",
        "  for i in range(num_layers):\n",
        "    x = encoder_layer(x, padding_mask, num_heads, embedding_dim, ff_dim, dropout_rate)\n",
        "  \n",
        "  return x\n",
        "\n",
        "\n",
        "def decoder(x, encoder_out, look_ahead_mask, padding_mask,\n",
        "            num_layers, num_heads, embedding_dim, ff_dim, vocab_size,\n",
        "            dropout_rate, max_tokens):  \n",
        "  seq_len = tf.shape(x)[1]\n",
        "  attentions = []\n",
        "\n",
        "  x = layers.Embedding(vocab_size, embedding_dim)(x)\n",
        "  x *= tf.math.sqrt(tf.cast(embedding_dim, tf.float32))\n",
        "  x += positional_encoding(max_tokens, embedding_dim)[:, :seq_len, :]\n",
        "\n",
        "  x = layers.Dropout(dropout_rate)(x)\n",
        "\n",
        "  for i in range(num_layers):\n",
        "    x, attn = decoder_layer(x, encoder_out, look_ahead_mask, padding_mask,\n",
        "                            num_heads, embedding_dim, ff_dim, dropout_rate)\n",
        "    attentions.append(attn)\n",
        "\n",
        "  return x, attentions\n",
        "\n",
        "\n",
        "def encoder_layer(x, padding_mask, num_heads, embedding_dim, ff_dim, dropout_rate):\n",
        "  x, _ = multi_head_attention(x, x, padding_mask, num_heads, embedding_dim, dropout_rate)\n",
        "  x = feed_forward(x, embedding_dim, ff_dim, dropout_rate)\n",
        "  return x\n",
        "\n",
        "\n",
        "def decoder_layer(x, encoder_out, look_ahead_mask, padding_mask, num_heads, embedding_dim, ff_dim, dropout_rate):\n",
        "  x, _ = multi_head_attention(x, x, look_ahead_mask, num_heads, embedding_dim, dropout_rate)\n",
        "  x, attn = multi_head_attention(x, encoder_out, padding_mask, num_heads, embedding_dim, dropout_rate)\n",
        "  x = feed_forward(x, embedding_dim, ff_dim, dropout_rate)\n",
        "  return x, attn\n",
        "\n",
        "\n",
        "def multi_head_attention(q, k, mask, num_heads, embedding_dim, dropout_rate):\n",
        "  mha_out, attn = layers.MultiHeadAttention(num_heads, embedding_dim)(q, k, attention_mask=mask, return_attention_scores=True)\n",
        "  mha_out = layers.Dropout(dropout_rate)(mha_out)\n",
        "  mha_out = layers.LayerNormalization(epsilon=1e-6)(q + mha_out)\n",
        "  return mha_out, attn\n",
        "\n",
        "\n",
        "def feed_forward(x, embedding_dim, ff_dim, dropout_rate):\n",
        "  ff_out = layers.Dense(ff_dim, activation='relu')(x)\n",
        "  ff_out = layers.Dense(embedding_dim)(ff_out)\n",
        "  ff_out = layers.Dropout(dropout_rate)(ff_out)\n",
        "  ff_out = layers.LayerNormalization(epsilon=1e-6)(x + ff_out)\n",
        "  return ff_out\n",
        "\n",
        "\n",
        "def positional_encoding(position, embedding_dim):\n",
        "  position_range = np.arange(position)[:, np.newaxis]\n",
        "  i = np.arange(embedding_dim)[np.newaxis, :]\n",
        "\n",
        "  angle_rads = position_range / (np.power(10000, (2 * (i // 2)) / np.float32(embedding_dim)))\n",
        "  angle_rads[:, 0::2] = np.sin(angle_rads[:, 0::2])\n",
        "  angle_rads[:, 1::2] = np.cos(angle_rads[:, 1::2])\n",
        "\n",
        "  pos_encoding = angle_rads[np.newaxis, ...]\n",
        "  \n",
        "  return tf.cast(pos_encoding, dtype=tf.float32)\n",
        "\n",
        "\n",
        "def create_masks(input_tokens, target_tokens):\n",
        "  padding_mask = create_padding_mask(input_tokens)\n",
        "  look_ahead_mask = create_look_ahead_mask(tf.shape(target_tokens)[1])\n",
        "  \n",
        "  target_padding_mask = create_padding_mask(target_tokens)\n",
        "  look_ahead_mask = tf.minimum(target_padding_mask, look_ahead_mask)\n",
        "\n",
        "  return padding_mask, look_ahead_mask\n",
        "\n",
        "\n",
        "def create_padding_mask(seq):\n",
        "  return tf.cast(tf.math.logical_not(tf.math.equal(seq, 0)), tf.float32)[:, tf.newaxis, tf.newaxis, :]\n",
        "\n",
        "\n",
        "def create_look_ahead_mask(size):\n",
        "  n = tf.cast(size * (size+1) / 2, dtype=tf.int32)\n",
        "  return tfp.math.fill_triangular(tf.ones((n,), dtype=tf.float32), upper=False)"
      ]
    },
    {
      "cell_type": "markdown",
      "metadata": {
        "id": "e3mN5TRie1cB"
      },
      "source": [
        "# Training"
      ]
    },
    {
      "cell_type": "markdown",
      "metadata": {
        "id": "F2b9PEKUe70C"
      },
      "source": [
        "### Define Training Functions"
      ]
    },
    {
      "cell_type": "code",
      "execution_count": null,
      "metadata": {
        "id": "e_EW261AXayG"
      },
      "outputs": [],
      "source": [
        "global transformer, sparse_cce_loss, optimizer, train_loss_mean, test_loss_mean, train_accuracy_mean, test_accuracy_mean\n",
        "\n",
        "train_step_signature = [\n",
        "    tf.TensorSpec(shape=(None, None), dtype=tf.int64),\n",
        "    tf.TensorSpec(shape=(None, None), dtype=tf.int64),\n",
        "]\n",
        "\n",
        "\n",
        "def train(epochs, restore_epoch=0, plot_freq=50, save_freq=5):\n",
        "  train_losses, train_accuracies = [], []\n",
        "  test_losses, test_accuracies = [], []\n",
        "  avg_batch_time = 0\n",
        "  completed_batches = 0\n",
        "  total_batches = epochs * len(train_dataset)\n",
        "\n",
        "  test_dataset_iter = test_dataset.as_numpy_iterator()\n",
        "  \n",
        "  for epoch in range(epochs):\n",
        "\n",
        "    train_loss_mean.reset_states()\n",
        "    test_loss_mean.reset_states()\n",
        "    train_accuracy_mean.reset_states()\n",
        "    test_accuracy_mean.reset_states()\n",
        "\n",
        "    for i, (input_batch, target_batch) in enumerate(train_dataset):\n",
        "      start = time.time()\n",
        "\n",
        "      input_batch = input_vectorizer(input_batch)\n",
        "      target_batch = target_vectorizer(target_batch)\n",
        "\n",
        "      try:\n",
        "        test_input_batch, test_target_batch = test_dataset_iter.next()\n",
        "      except:\n",
        "        test_dataset_iter = test_dataset.as_numpy_iterator()\n",
        "        test_input_batch, test_target_batch = test_dataset_iter.next()\n",
        "\n",
        "      test_input_batch = input_vectorizer(test_input_batch)\n",
        "      test_target_batch = target_vectorizer(test_target_batch)\n",
        "\n",
        "      train_loss, train_accuracy = train_step(input_batch, target_batch)\n",
        "      test_loss, test_accuracy = test_step(test_input_batch, test_target_batch)\n",
        "\n",
        "      train_loss_mean(train_loss)\n",
        "      test_loss_mean(test_loss)\n",
        "      train_accuracy_mean(train_accuracy)\n",
        "      test_accuracy_mean(test_accuracy)\n",
        "\n",
        "      train_losses.append(train_loss)\n",
        "      test_losses.append(test_loss)\n",
        "      train_accuracies.append(train_accuracy)\n",
        "      test_accuracies.append(test_accuracy)\n",
        "\n",
        "      if i % plot_freq == 0:\n",
        "        display.clear_output(wait=True)\n",
        "        plot_metrics(train_losses, test_losses, train_accuracies, test_accuracies)\n",
        "\n",
        "      remaining_time, avg_batch_time = get_remaining_time(start, completed_batches, total_batches, avg_batch_time, restore_epoch)\n",
        "      completed_batches += 1\n",
        "\n",
        "      epoch_str = f'\\rEpoch {epoch+1} of {epochs} | '\n",
        "      epoch_str += f'Progress: {i+1}/{len(train_dataset)} | '\n",
        "      epoch_str += f'Train Loss: {train_loss_mean.result():.3f} | '\n",
        "      epoch_str += f'Train Accuracy: {(train_accuracy_mean.result()*100):.3f}% | '\n",
        "      epoch_str += f'Test Loss: {test_loss_mean.result():.3f} | '\n",
        "      epoch_str += f'Test Accuracy: {(test_accuracy_mean.result()*100):.3f}% | '\n",
        "      epoch_str += f'Remaining Time: {remaining_time}        '\n",
        "      \n",
        "      print(epoch_str, end='')\n",
        "  \n",
        "  return train_losses, test_losses, train_accuracies, test_accuracies\n",
        "\n",
        "\n",
        "@tf.function(input_signature=train_step_signature)\n",
        "def train_step(inputs, targets):\n",
        "  targets_in = targets[:, :-1]\n",
        "  targets_real = targets[:, 1:]\n",
        "\n",
        "  with tf.GradientTape() as tape:\n",
        "    predictions, _ = transformer([inputs, targets_in], training=True)\n",
        "    loss = transformer_loss(targets_real, predictions)\n",
        "\n",
        "  gradients = tape.gradient(loss, transformer.trainable_variables)\n",
        "  optimizer.apply_gradients(zip(gradients, transformer.trainable_variables))\n",
        "\n",
        "  return loss, accuracy(targets_real, predictions)\n",
        "\n",
        "\n",
        "@tf.function(input_signature=train_step_signature)\n",
        "def test_step(inputs, targets):\n",
        "  targets_in = targets[:, :-1]\n",
        "  targets_real = targets[:, 1:]\n",
        "  \n",
        "  predictions, _ = transformer([inputs, targets_in], training=False)\n",
        "  loss = transformer_loss(targets_real, predictions)\n",
        "  return loss, accuracy(targets_real, predictions)\n",
        "\n",
        "\n",
        "def transformer_loss(real, pred):\n",
        "  mask = tf.math.logical_not(tf.math.equal(real, 0))\n",
        "  loss = sparse_cce_loss(real, pred)\n",
        "  \n",
        "  mask = tf.cast(mask, dtype=loss.dtype)\n",
        "  loss *= mask\n",
        "\n",
        "  return tf.reduce_sum(loss) / tf.reduce_sum(mask)\n",
        "\n",
        "\n",
        "def accuracy(real, pred):\n",
        "  accuracies = tf.equal(real, tf.argmax(pred, axis=2))\n",
        "\n",
        "  mask = tf.math.logical_not(tf.math.equal(real, 0))\n",
        "  accuracies = tf.math.logical_and(mask, accuracies)\n",
        "\n",
        "  accuracies = tf.cast(accuracies, dtype=tf.float32)\n",
        "  mask = tf.cast(mask, dtype=tf.float32)\n",
        "  \n",
        "  return tf.reduce_sum(accuracies) / tf.reduce_sum(mask)\n",
        "\n",
        "\n",
        "def plot_metrics(train_losses, test_losses, train_accuracies, test_accuracies):\n",
        "  fig, (ax1, ax2) = plt.subplots(1, 2, figsize=(24, 8))\n",
        "\n",
        "  ax1.set_title('Loss vs. Batch #')\n",
        "  ax1.set_xlabel('Batch #')\n",
        "  ax1.set_ylabel('Loss')\n",
        "  ax1.plot(train_losses)\n",
        "  ax1.plot(test_losses)\n",
        "  ax1.legend(['Train', 'Test'])\n",
        "\n",
        "  ax2.set_title('Accuracy vs. Batch #')\n",
        "  ax2.set_xlabel('Batch #')\n",
        "  ax2.set_ylabel('Accuracy')\n",
        "  ax2.plot(train_accuracies)\n",
        "  ax2.plot(test_accuracies)\n",
        "  ax2.legend(['Train', 'Test'])\n",
        "  \n",
        "  plt.show()\n",
        "\n",
        "\n",
        "def get_remaining_time(batch_start, batch, total_batches, avg_batch_time, restore_epoch):\n",
        "  time_for_epoch = time.time() - batch_start\n",
        "  batch_adj = batch - restore_epoch * 64\n",
        "  avg_batch_time = (avg_batch_time * batch_adj + time_for_epoch) / (batch_adj + 1)\n",
        "  remaining_batches = total_batches - (batch + 1)\n",
        "  \n",
        "  remaining_time = get_time_string(remaining_batches * avg_batch_time)\n",
        "\n",
        "  return remaining_time, avg_batch_time\n",
        "\n",
        "\n",
        "def get_time_string(total_seconds):\n",
        "  hours = int(total_seconds // 3600)\n",
        "  remainder = total_seconds % 3600\n",
        "  minutes = int(remainder // 60)\n",
        "  seconds = round(remainder % 60, 2)\n",
        "  time_string = ''\n",
        "  if hours > 0:\n",
        "    time_string += f'{hours}h '\n",
        "  if remainder >= 60:\n",
        "    time_string += f'{minutes}m '\n",
        "  time_string += f'{seconds}s'\n",
        "  return time_string"
      ]
    },
    {
      "cell_type": "markdown",
      "metadata": {
        "id": "XOZvs1fNi8gt"
      },
      "source": [
        "### Create Transformer And Configure Training"
      ]
    },
    {
      "cell_type": "code",
      "execution_count": null,
      "metadata": {
        "id": "FxiaMwjjXT0P"
      },
      "outputs": [],
      "source": [
        "epochs = 5\n",
        "\n",
        "num_layers = 3\n",
        "embedding_dim = 512\n",
        "ff_dim = 512\n",
        "num_heads = 8\n",
        "\n",
        "sparse_cce_loss = keras.losses.SparseCategoricalCrossentropy(from_logits=True, reduction='none')\n",
        "optimizer = optimizers.Adam(learning_rate=0.0001, beta_1=0.9, beta_2=0.98, epsilon=1e-9)\n",
        "\n",
        "train_loss_mean = metrics.Mean()\n",
        "train_accuracy_mean = metrics.Mean()\n",
        "test_loss_mean = metrics.Mean()\n",
        "test_accuracy_mean = metrics.Mean()\n",
        "\n",
        "model_name = f'{input_language}_to_{target_language}'\n",
        "\n",
        "transformer = create_transformer(num_layers, num_heads, embedding_dim, ff_dim, input_vocab_size, target_vocab_size)"
      ]
    },
    {
      "cell_type": "markdown",
      "metadata": {
        "id": "1NASZSDPktcz"
      },
      "source": [
        "### Train Transformer"
      ]
    },
    {
      "cell_type": "code",
      "execution_count": null,
      "metadata": {
        "colab": {
          "base_uri": "https://localhost:8080/",
          "height": 529
        },
        "id": "kFof5s4MktFx",
        "outputId": "60ff48c8-3bae-4330-ab49-13e2681bc314"
      },
      "outputs": [
        {
          "data": {
            "image/png": "[encoded data removed]",
            "text/plain": [
              "<Figure size 1728x576 with 2 Axes>"
            ]
          },
          "metadata": {
            "image/png": {
              "height": 494,
              "width": 1386
            },
            "needs_background": "light"
          },
          "output_type": "display_data"
        },
        {
          "name": "stdout",
          "output_type": "stream",
          "text": [
            "Epoch 4 of 5 | Progress: 141/2491 | Train Loss: 0.729 | Train Accuracy: 82.914% | Test Loss: 2.031 | Test Accuracy: 67.903% | Remaining Time: 48m 1.7s        "
          ]
        }
      ],
      "source": [
        "history = train(epochs)"
      ]
    },
    {
      "cell_type": "markdown",
      "metadata": {
        "id": "N3yMBScxqHFl"
      },
      "source": [
        "### Calculate Loss And Accuracy"
      ]
    },
    {
      "cell_type": "code",
      "execution_count": null,
      "metadata": {
        "colab": {
          "base_uri": "https://localhost:8080/"
        },
        "id": "LG1xojFYqI9N",
        "outputId": "ec0dd841-a245-46e4-bad5-c59fa6152304"
      },
      "outputs": [
        {
          "name": "stdout",
          "output_type": "stream",
          "text": [
            "======== english_to_italian metrics ========\n",
            "Train Loss: 0.669\n",
            "Test Loss: 1.998\n",
            "Train Accuracy: 83.674%\n",
            "Train Accuracy: 67.629%\n"
          ]
        }
      ],
      "source": [
        "# calculate train batch losses and accuracies\n",
        "train_losses, train_accuracies = [], []\n",
        "for input_batch, target_batch in train_dataset:\n",
        "  input_batch = input_vectorizer(input_batch)\n",
        "  target_batch = target_vectorizer(target_batch)\n",
        "  loss, acc = test_step(input_batch, target_batch)\n",
        "  train_losses.append(loss)\n",
        "  train_accuracies.append(acc)\n",
        "\n",
        "# calculate test batch losses and accuracies\n",
        "test_losses, test_accuracies = [], []\n",
        "for input_batch, target_batch in test_dataset:\n",
        "  input_batch = input_vectorizer(input_batch)\n",
        "  target_batch = target_vectorizer(target_batch)\n",
        "  loss, acc = test_step(input_batch, target_batch)\n",
        "  test_losses.append(loss)\n",
        "  test_accuracies.append(acc)\n",
        "\n",
        "# average batch losses and accuracies\n",
        "train_loss = np.mean(train_losses)\n",
        "test_loss = np.mean(test_losses)\n",
        "train_accuracy = np.mean(train_accuracies) * 100\n",
        "test_accuracy = np.mean(test_accuracies) * 100\n",
        "\n",
        "# print metrics\n",
        "print(f'======== {model_name} metrics ========')\n",
        "print(f'Train Loss: {train_loss:.3f}')\n",
        "print(f'Test Loss: {test_loss:.3f}')\n",
        "print(f'Train Accuracy: {train_accuracy:.3f}%')\n",
        "print(f'Train Accuracy: {test_accuracy:.3f}%')"
      ]
    },
    {
      "cell_type": "markdown",
      "metadata": {
        "id": "g-Y77uxNlLur"
      },
      "source": [
        "### Save Transformer"
      ]
    },
    {
      "cell_type": "code",
      "execution_count": null,
      "metadata": {
        "colab": {
          "base_uri": "https://localhost:8080/"
        },
        "id": "u4oKeXu0Zv0e",
        "outputId": "d8aa0f05-a49e-443c-ca64-c705fa636437"
      },
      "outputs": [
        {
          "name": "stderr",
          "output_type": "stream",
          "text": [
            "WARNING:absl:Found untraced functions such as query_layer_call_fn, query_layer_call_and_return_conditional_losses, key_layer_call_fn, key_layer_call_and_return_conditional_losses, value_layer_call_fn while saving (showing 5 of 108). These functions will not be directly callable after loading.\n"
          ]
        }
      ],
      "source": [
        "tf.saved_model.save(transformer, f'{env_dir}/saved_models/{model_name}')"
      ]
    },
    {
      "cell_type": "markdown",
      "metadata": {
        "id": "PZX7Bz0_Tc9Y"
      },
      "source": [
        "### Save Text Processors"
      ]
    },
    {
      "cell_type": "code",
      "execution_count": null,
      "metadata": {
        "id": "gh9COjyUWtOG"
      },
      "outputs": [],
      "source": [
        "text_processors_dir = f'{env_dir}/text_processors/{model_name}'\n",
        "\n",
        "make_dir(text_processors_dir)\n",
        "\n",
        "save_layer_as_pickle(input_vectorizer, f'{text_processors_dir}/input_vectorizer.pkl')\n",
        "save_layer_as_pickle(target_token_from_index, f'{text_processors_dir}/target_token_from_index.pkl')"
      ]
    },
    {
      "cell_type": "markdown",
      "metadata": {
        "id": "4I56OAuMPL8T"
      },
      "source": [
        "### Save Training Metrics"
      ]
    },
    {
      "cell_type": "code",
      "execution_count": null,
      "metadata": {
        "id": "zvoWVVQdPQ5j"
      },
      "outputs": [],
      "source": [
        "metrics_dir = f'{env_dir}/metrics/{model_name}'\n",
        "\n",
        "make_dir(metrics_dir)\n",
        "\n",
        "train_losses, test_losses, train_accuracies, test_accuracies = history\n",
        "\n",
        "np.save(f'{metrics_dir}/train_losses.npy', train_losses)\n",
        "np.save(f'{metrics_dir}/test_losses.npy', test_losses)\n",
        "np.save(f'{metrics_dir}/train_accuracies.npy', train_accuracies)\n",
        "np.save(f'{metrics_dir}/test_accuracies.npy', test_accuracies)"
      ]
    },
    {
      "cell_type": "markdown",
      "metadata": {
        "id": "jARurgBGvmCg"
      },
      "source": [
        "# Results"
      ]
    },
    {
      "cell_type": "markdown",
      "metadata": {
        "id": "0z6OgYEmYBZz"
      },
      "source": [
        "### Load Transformer"
      ]
    },
    {
      "cell_type": "code",
      "execution_count": null,
      "metadata": {
        "id": "eOFu5-bTjcIm"
      },
      "outputs": [],
      "source": [
        "model_name = 'chinese_to_english'\n",
        "\n",
        "input_language, target_language = model_name.split('_to_')\n",
        "\n",
        "transformer = tf.saved_model.load(f'{env_dir}/saved_models/{model_name}')"
      ]
    },
    {
      "cell_type": "markdown",
      "metadata": {
        "id": "s1ssXKVeeKd2"
      },
      "source": [
        "### Load Text Processors"
      ]
    },
    {
      "cell_type": "code",
      "execution_count": null,
      "metadata": {
        "colab": {
          "base_uri": "https://localhost:8080/",
          "height": 251,
          "referenced_widgets": [
            "5a51d0d912a140fcb6b4d3f270c8eca3",
            "bd4cf13f231c49748820ae685f79ce43",
            "f664b44346324ca7b2fe1a2a0d5549b1",
            "37b9073f455d40a08b67b707c7592525",
            "8351b0e5ed994af4aef3efb3d55e1d47",
            "19c83cfa8a1543ce85206fc9a30c4d43",
            "d8518b05618d4996853aa3e808115c78",
            "aea67f96a0634ccfa16f540896c4969d",
            "075c7a8894444859bc2deb14b8430f66",
            "09033a42817346bb89ecbd3dfdd7d1b5",
            "8ff1ff6dd60a42e2a43176a20ae7aff1"
          ]
        },
        "id": "g5LMHhsgeId8",
        "outputId": "92729428-05d0-40ef-d03a-935c8a454775"
      },
      "outputs": [
        {
          "data": {
            "application/vnd.jupyter.widget-view+json": {
              "model_id": "5a51d0d912a140fcb6b4d3f270c8eca3",
              "version_major": 2,
              "version_minor": 0
            },
            "text/plain": [
              "Downloading https://raw.githubusercontent.com/stanfordnlp/stanza-resources/main/resources_1.4.0.json:   0%|   …"
            ]
          },
          "metadata": {
            "application/vnd.jupyter.widget-view+json": {
              "colab": {
                "custom_widget_manager": {
                  "url": "https://ssl.gstatic.com/colaboratory-static/widgets/colab-cdn-widget-manager/d2e234f7cc04bf79/manager.min.js"
                }
              }
            }
          },
          "output_type": "display_data"
        },
        {
          "name": "stderr",
          "output_type": "stream",
          "text": [
            "INFO:stanza:\"zh\" is an alias for \"zh-hans\"\n",
            "INFO:stanza:Loading these models for language: zh-hans (Simplified_Chinese):\n",
            "=======================\n",
            "| Processor | Package |\n",
            "-----------------------\n",
            "| tokenize  | gsdsimp |\n",
            "=======================\n",
            "\n",
            "INFO:stanza:Use device: gpu\n",
            "INFO:stanza:Loading: tokenize\n",
            "INFO:stanza:Done loading processors!\n"
          ]
        }
      ],
      "source": [
        "text_processors_dir = f'{env_dir}/text_processors/{model_name}'\n",
        "\n",
        "input_vectorizer = load_pickle_as_layer(f'{text_processors_dir}/input_vectorizer.pkl', layers.TextVectorization)\n",
        "target_token_from_index = load_pickle_as_layer(f'{text_processors_dir}/target_token_from_index.pkl', layers.StringLookup)\n",
        "\n",
        "input_tokenizer = stanza.Pipeline(lang=language_codes[input_language], processors='tokenize')"
      ]
    },
    {
      "cell_type": "markdown",
      "metadata": {
        "id": "qrUYIWoPqPWj"
      },
      "source": [
        "### Define Translate Functions"
      ]
    },
    {
      "cell_type": "code",
      "execution_count": null,
      "metadata": {
        "id": "sJmLUuQCqOLQ"
      },
      "outputs": [],
      "source": [
        "def translate(sentence, transformer, input_vectorizer, target_token_from_index, out_language=None, max_tokens=128, skip_tokenization=False, prettify=True):\n",
        "  if not skip_tokenization:\n",
        "    sentence = input_tokenizer(sentence)\n",
        "    sentence = ' '.join([token.text.lower() for token in sentence.iter_tokens()])\n",
        "  \n",
        "  vec = input_vectorizer(sentence)[tf.newaxis]\n",
        "\n",
        "  start_token_index = tf.constant(2, dtype=tf.int64)[tf.newaxis]\n",
        "  end_token_index = tf.constant(3, dtype=tf.int64)[tf.newaxis]\n",
        "\n",
        "  token_indices = [start_token_index]\n",
        "\n",
        "  # iterate until end token is generated or max_tokens reached\n",
        "  for i in range(max_tokens):\n",
        "    target_indices = tf.transpose(tf.convert_to_tensor(token_indices))\n",
        "\n",
        "    predictions, attention_scores = transformer([vec, target_indices], training=False)\n",
        "    predictions = predictions[:, -1:, :]\n",
        "    predicted_index = tf.argmax(predictions, axis=-1)\n",
        "\n",
        "    token_indices.append(predicted_index[0])\n",
        "\n",
        "    if predicted_index == end_token_index:\n",
        "      break\n",
        "\n",
        "  # convert indices to tokens\n",
        "  tokens = [target_token_from_index(index)[0].numpy().decode() for index in token_indices[1:-1]]\n",
        "  translation = ' '.join(tokens)\n",
        "\n",
        "  # prettify translation\n",
        "  if prettify:\n",
        "    translation = prettify_translation(translation, out_language)\n",
        "\n",
        "  return translation, attention_scores\n",
        "\n",
        "\n",
        "def multi_translate(sentence, transformers, max_tokens=128):\n",
        "  translation = sentence\n",
        "  intermediates = []\n",
        "  for i, (transformer, input_vectorizer, target_token_from_index, out_language) in enumerate(transformers):\n",
        "    translation, _ = translate(translation, transformer, input_vectorizer,\n",
        "                               target_token_from_index, out_language, max_tokens,\n",
        "                               i!=0, i==(len(transformers)-1))\n",
        "    \n",
        "    if i < len(transformers) - 1:\n",
        "      intermediates.append(prettify_translation(translation, out_language))\n",
        "  \n",
        "  return translation, intermediates\n",
        "\n",
        "\n",
        "def combine_models(model_names):\n",
        "  transformers = []\n",
        "  input_vectorizers = []\n",
        "  target_token_from_index_layers = []\n",
        "  out_languages = []\n",
        "  for model_name in model_names:\n",
        "    transformers.append(tf.saved_model.load(f'{env_dir}/saved_models/{model_name}'))\n",
        "    input_vectorizers.append(load_pickle_as_layer(f'{env_dir}/text_processors/{model_name}/input_vectorizer.pkl', layers.TextVectorization))\n",
        "    target_token_from_index_layers.append(load_pickle_as_layer(f'{env_dir}/text_processors/{model_name}/target_token_from_index.pkl', layers.StringLookup))\n",
        "    out_languages.append(model_name.split('_to_')[1])\n",
        "  return list(zip(transformers, input_vectorizers, target_token_from_index_layers, out_languages))\n",
        "\n",
        "\n",
        "def prettify_translation(translation, language=''):\n",
        "  translation = re.sub(r' ([\\'!?,.])', r'\\1', translation)\n",
        "  translation = translation.replace(' n\\'t', 'n\\'t')\n",
        "  translation = translation.capitalize()\n",
        "\n",
        "  no_space_languages = ['chinese', 'japanese', 'korean']\n",
        "\n",
        "  if language in no_space_languages:\n",
        "    translation = translation.replace(' ', '')\n",
        "  \n",
        "  return translation.capitalize()\n",
        "\n",
        "\n",
        "def plot_attention_weights(sentence, translation, attention_heads):\n",
        "  in_tokens = sentence.split()\n",
        "  translated_tokens = translation.split()\n",
        "\n",
        "  fig = plt.figure(figsize=(16, 8))\n",
        "\n",
        "  for h, head in enumerate(attention_heads):\n",
        "    ax = fig.add_subplot(2, 4, h+1)\n",
        "    plot_attention_head(in_tokens, translated_tokens, head)\n",
        "    ax.set_xlabel(f'Head {h+1}')\n",
        "\n",
        "  plt.tight_layout()\n",
        "  plt.show()\n",
        "\n",
        "\n",
        "def plot_attention_head(in_tokens, translated_tokens, attention):\n",
        "  translated_tokens = translated_tokens + ['[END]']\n",
        "\n",
        "  ax = plt.gca()\n",
        "  ax.matshow(attention)\n",
        "  ax.set_xticks(range(len(in_tokens)))\n",
        "  ax.set_yticks(range(len(translated_tokens)))\n",
        "\n",
        "  ax.set_xticklabels(in_tokens, rotation=90)\n",
        "  ax.set_yticklabels(translated_tokens)"
      ]
    },
    {
      "cell_type": "markdown",
      "metadata": {
        "id": "j8wPnT6smjdl"
      },
      "source": [
        "### Translate Sentences From Test Set"
      ]
    },
    {
      "cell_type": "code",
      "execution_count": null,
      "metadata": {
        "colab": {
          "base_uri": "https://localhost:8080/",
          "height": 363
        },
        "id": "L0vhGlPzgXVF",
        "outputId": "ad2bbc56-a7c5-4665-c405-9adcbf3be040"
      },
      "outputs": [
        {
          "data": {
            "text/html": [
              "\n",
              "  <div id=\"df-d17a082e-2186-4ed1-b90d-eb6123fa8ec3\">\n",
              "    <div class=\"colab-df-container\">\n",
              "      <div>\n",
              "<style scoped>\n",
              "    .dataframe tbody tr th:only-of-type {\n",
              "        vertical-align: middle;\n",
              "    }\n",
              "\n",
              "    .dataframe tbody tr th {\n",
              "        vertical-align: top;\n",
              "    }\n",
              "\n",
              "    .dataframe thead th {\n",
              "        text-align: right;\n",
              "    }\n",
              "</style>\n",
              "<table border=\"1\" class=\"dataframe\">\n",
              "  <thead>\n",
              "    <tr style=\"text-align: right;\">\n",
              "      <th></th>\n",
              "      <th>input</th>\n",
              "      <th>prediction</th>\n",
              "      <th>target</th>\n",
              "    </tr>\n",
              "  </thead>\n",
              "  <tbody>\n",
              "    <tr>\n",
              "      <th>0</th>\n",
              "      <td>The instant he opened the door, he smelt somet...</td>\n",
              "      <td>वह उस आदमी को अपनी टीचर से ज़्यादा से ही है ।</td>\n",
              "      <td>उसे दरवाज़ा खोलते ही किसी चीज़ के जलने की बदबू...</td>\n",
              "    </tr>\n",
              "    <tr>\n",
              "      <th>1</th>\n",
              "      <td>Nobody likes him, because he is always blowing...</td>\n",
              "      <td>कोई नहीं और वह हमेशा काले कपड़े पहनती है ।</td>\n",
              "      <td>उसे कोई भी पसंद नहीं करता क्योंकि वह सारे टाईम...</td>\n",
              "    </tr>\n",
              "    <tr>\n",
              "      <th>2</th>\n",
              "      <td>A selfish man thinks of nothing but his own fe...</td>\n",
              "      <td>एक आदमी ने उसकी आदमी को उसकी आदमी के लिए बहुत ...</td>\n",
              "      <td>मतलबी इनसान केवल अपनी भावनाओं के बारे में ही स...</td>\n",
              "    </tr>\n",
              "    <tr>\n",
              "      <th>3</th>\n",
              "      <td>Mother teresa was a catholic nun who lived and...</td>\n",
              "      <td>माँ ने माँ में बहुत सारे पैसे चुराने के लिए था ।</td>\n",
              "      <td>मदर टेरेसा एक कैथोलिक नन थीं जो कलकत्ता में रह...</td>\n",
              "    </tr>\n",
              "    <tr>\n",
              "      <th>4</th>\n",
              "      <td>It's an absolute waste of time to wait any lon...</td>\n",
              "      <td>यह सरासर समय की वजह से बहुत सारे है ।</td>\n",
              "      <td>और इंतेज़ार करना समय की सरासर बर्बादी होगी ।</td>\n",
              "    </tr>\n",
              "    <tr>\n",
              "      <th>5</th>\n",
              "      <td>In order to stay awake, i may have to drink mo...</td>\n",
              "      <td>उन सभी की बात में मैं बहुत ही हूँ ।</td>\n",
              "      <td>मुझे जगे रहने के लिए शायद और कॉफ़ी पीनी पड़ेगी ।</td>\n",
              "    </tr>\n",
              "    <tr>\n",
              "      <th>6</th>\n",
              "      <td>Many people around the world don't have access...</td>\n",
              "      <td>कई बार और कुछ लोगों को देखने में हैं, बहुत सार...</td>\n",
              "      <td>दुनिया भर में बहुत से लोगों को अच्छा पानी उपलब...</td>\n",
              "    </tr>\n",
              "    <tr>\n",
              "      <th>7</th>\n",
              "      <td>I'll arrange for someone to pick you up at you...</td>\n",
              "      <td>मैं तुम्हारे लिए घर में फ़ोन करूँगा ।</td>\n",
              "      <td>मैं किसी को तुम्हें घर से लेने के लिए भिजवादूँ...</td>\n",
              "    </tr>\n",
              "    <tr>\n",
              "      <th>8</th>\n",
              "      <td>We have some new products we'd like you to see.</td>\n",
              "      <td>हमारे पास कुछ बताने की आदत है ।</td>\n",
              "      <td>आपको कुछ नए प्रॉडक्ट्स दिखाना चाहते हैं ।</td>\n",
              "    </tr>\n",
              "    <tr>\n",
              "      <th>9</th>\n",
              "      <td>His shoes were so old that his toes were stick...</td>\n",
              "      <td>उसकी अपने पुराने कपड़ो पर उसका जन्मदिन था ।</td>\n",
              "      <td>उसके जूते इतने पुराने थे कि उनमें से उसकी ऊँगल...</td>\n",
              "    </tr>\n",
              "  </tbody>\n",
              "</table>\n",
              "</div>\n",
              "      <button class=\"colab-df-convert\" onclick=\"convertToInteractive('df-d17a082e-2186-4ed1-b90d-eb6123fa8ec3')\"\n",
              "              title=\"Convert this dataframe to an interactive table.\"\n",
              "              style=\"display:none;\">\n",
              "        \n",
              "  <svg xmlns=\"http://www.w3.org/2000/svg\" height=\"24px\"viewBox=\"0 0 24 24\"\n",
              "       width=\"24px\">\n",
              "    <path d=\"M0 0h24v24H0V0z\" fill=\"none\"/>\n",
              "    <path d=\"M18.56 5.44l.94 2.06.94-2.06 2.06-.94-2.06-.94-.94-2.06-.94 2.06-2.06.94zm-11 1L8.5 8.5l.94-2.06 2.06-.94-2.06-.94L8.5 2.5l-.94 2.06-2.06.94zm10 10l.94 2.06.94-2.06 2.06-.94-2.06-.94-.94-2.06-.94 2.06-2.06.94z\"/><path d=\"M17.41 7.96l-1.37-1.37c-.4-.4-.92-.59-1.43-.59-.52 0-1.04.2-1.43.59L10.3 9.45l-7.72 7.72c-.78.78-.78 2.05 0 2.83L4 21.41c.39.39.9.59 1.41.59.51 0 1.02-.2 1.41-.59l7.78-7.78 2.81-2.81c.8-.78.8-2.07 0-2.86zM5.41 20L4 18.59l7.72-7.72 1.47 1.35L5.41 20z\"/>\n",
              "  </svg>\n",
              "      </button>\n",
              "      \n",
              "  <style>\n",
              "    .colab-df-container {\n",
              "      display:flex;\n",
              "      flex-wrap:wrap;\n",
              "      gap: 12px;\n",
              "    }\n",
              "\n",
              "    .colab-df-convert {\n",
              "      background-color: #E8F0FE;\n",
              "      border: none;\n",
              "      border-radius: 50%;\n",
              "      cursor: pointer;\n",
              "      display: none;\n",
              "      fill: #1967D2;\n",
              "      height: 32px;\n",
              "      padding: 0 0 0 0;\n",
              "      width: 32px;\n",
              "    }\n",
              "\n",
              "    .colab-df-convert:hover {\n",
              "      background-color: #E2EBFA;\n",
              "      box-shadow: 0px 1px 2px rgba(60, 64, 67, 0.3), 0px 1px 3px 1px rgba(60, 64, 67, 0.15);\n",
              "      fill: #174EA6;\n",
              "    }\n",
              "\n",
              "    [theme=dark] .colab-df-convert {\n",
              "      background-color: #3B4455;\n",
              "      fill: #D2E3FC;\n",
              "    }\n",
              "\n",
              "    [theme=dark] .colab-df-convert:hover {\n",
              "      background-color: #434B5C;\n",
              "      box-shadow: 0px 1px 3px 1px rgba(0, 0, 0, 0.15);\n",
              "      filter: drop-shadow(0px 1px 2px rgba(0, 0, 0, 0.3));\n",
              "      fill: #FFFFFF;\n",
              "    }\n",
              "  </style>\n",
              "\n",
              "      <script>\n",
              "        const buttonEl =\n",
              "          document.querySelector('#df-d17a082e-2186-4ed1-b90d-eb6123fa8ec3 button.colab-df-convert');\n",
              "        buttonEl.style.display =\n",
              "          google.colab.kernel.accessAllowed ? 'block' : 'none';\n",
              "\n",
              "        async function convertToInteractive(key) {\n",
              "          const element = document.querySelector('#df-d17a082e-2186-4ed1-b90d-eb6123fa8ec3');\n",
              "          const dataTable =\n",
              "            await google.colab.kernel.invokeFunction('convertToInteractive',\n",
              "                                                     [key], {});\n",
              "          if (!dataTable) return;\n",
              "\n",
              "          const docLinkHtml = 'Like what you see? Visit the ' +\n",
              "            '<a target=\"_blank\" href=https://colab.research.google.com/notebooks/data_table.ipynb>data table notebook</a>'\n",
              "            + ' to learn more about interactive tables.';\n",
              "          element.innerHTML = '';\n",
              "          dataTable['output_type'] = 'display_data';\n",
              "          await google.colab.output.renderOutput(dataTable, element);\n",
              "          const docLink = document.createElement('div');\n",
              "          docLink.innerHTML = docLinkHtml;\n",
              "          element.appendChild(docLink);\n",
              "        }\n",
              "      </script>\n",
              "    </div>\n",
              "  </div>\n",
              "  "
            ],
            "text/plain": [
              "                                               input  \\\n",
              "0  The instant he opened the door, he smelt somet...   \n",
              "1  Nobody likes him, because he is always blowing...   \n",
              "2  A selfish man thinks of nothing but his own fe...   \n",
              "3  Mother teresa was a catholic nun who lived and...   \n",
              "4  It's an absolute waste of time to wait any lon...   \n",
              "5  In order to stay awake, i may have to drink mo...   \n",
              "6  Many people around the world don't have access...   \n",
              "7  I'll arrange for someone to pick you up at you...   \n",
              "8    We have some new products we'd like you to see.   \n",
              "9  His shoes were so old that his toes were stick...   \n",
              "\n",
              "                                          prediction  \\\n",
              "0      वह उस आदमी को अपनी टीचर से ज़्यादा से ही है ।   \n",
              "1         कोई नहीं और वह हमेशा काले कपड़े पहनती है ।   \n",
              "2  एक आदमी ने उसकी आदमी को उसकी आदमी के लिए बहुत ...   \n",
              "3   माँ ने माँ में बहुत सारे पैसे चुराने के लिए था ।   \n",
              "4              यह सरासर समय की वजह से बहुत सारे है ।   \n",
              "5                उन सभी की बात में मैं बहुत ही हूँ ।   \n",
              "6  कई बार और कुछ लोगों को देखने में हैं, बहुत सार...   \n",
              "7              मैं तुम्हारे लिए घर में फ़ोन करूँगा ।   \n",
              "8                    हमारे पास कुछ बताने की आदत है ।   \n",
              "9        उसकी अपने पुराने कपड़ो पर उसका जन्मदिन था ।   \n",
              "\n",
              "                                              target  \n",
              "0  उसे दरवाज़ा खोलते ही किसी चीज़ के जलने की बदबू...  \n",
              "1  उसे कोई भी पसंद नहीं करता क्योंकि वह सारे टाईम...  \n",
              "2  मतलबी इनसान केवल अपनी भावनाओं के बारे में ही स...  \n",
              "3  मदर टेरेसा एक कैथोलिक नन थीं जो कलकत्ता में रह...  \n",
              "4       और इंतेज़ार करना समय की सरासर बर्बादी होगी ।  \n",
              "5   मुझे जगे रहने के लिए शायद और कॉफ़ी पीनी पड़ेगी ।  \n",
              "6  दुनिया भर में बहुत से लोगों को अच्छा पानी उपलब...  \n",
              "7  मैं किसी को तुम्हें घर से लेने के लिए भिजवादूँ...  \n",
              "8          आपको कुछ नए प्रॉडक्ट्स दिखाना चाहते हैं ।  \n",
              "9  उसके जूते इतने पुराने थे कि उनमें से उसकी ऊँगल...  "
            ]
          },
          "execution_count": 24,
          "metadata": {},
          "output_type": "execute_result"
        }
      ],
      "source": [
        "input_batch, target_batch = test_dataset.as_numpy_iterator().next()\n",
        "\n",
        "input_batch = input_batch[:10]\n",
        "target_batch = target_batch[:10]\n",
        "\n",
        "preds = []\n",
        "for input in input_batch:\n",
        "  translation, _ = translate(input, transformer, input_vectorizer, target_token_from_index, skip_tokenization=True)\n",
        "  preds.append(translation)\n",
        "\n",
        "input_batch = [prettify_translation(text.decode()) for text in input_batch]\n",
        "target_batch = [prettify_translation(text.decode()) for text in target_batch]\n",
        "target_batch = [text.replace('[start] ', '').replace(' [end]', '') for text in target_batch]\n",
        "\n",
        "pd.DataFrame({'input': input_batch,'prediction': preds, 'target': target_batch})"
      ]
    },
    {
      "cell_type": "markdown",
      "metadata": {
        "id": "_I41TDNOqRa6"
      },
      "source": [
        "### Translate Custom Text"
      ]
    },
    {
      "cell_type": "code",
      "execution_count": null,
      "metadata": {
        "colab": {
          "base_uri": "https://localhost:8080/"
        },
        "id": "3R6YRLT7qThI",
        "outputId": "97365f8e-1002-4e3d-82b9-a99fe17720e0"
      },
      "outputs": [
        {
          "name": "stdout",
          "output_type": "stream",
          "text": [
            "Δε θέλω να παρακολουθήσω τηλεόραση πια.\n",
            "Θέλω να πάω έξω!\n"
          ]
        }
      ],
      "source": [
        "text = '''\n",
        "I do not want to watch television anymore.\n",
        "I want to go play outside!\n",
        "'''\n",
        "\n",
        "text = text.strip().split('\\n')\n",
        "for line in text:\n",
        "  translation, attention_scores = translate(line, transformer, input_vectorizer, target_token_from_index, target_language)\n",
        "  print(translation)"
      ]
    },
    {
      "cell_type": "markdown",
      "metadata": {
        "id": "N2HpbyHaKReE"
      },
      "source": [
        "### Plot Attention Heads"
      ]
    },
    {
      "cell_type": "code",
      "execution_count": null,
      "metadata": {
        "colab": {
          "base_uri": "https://localhost:8080/",
          "height": 547
        },
        "id": "TwI-h-kuKRMg",
        "outputId": "88486dda-4558-4bb4-e955-939454685d9e"
      },
      "outputs": [
        {
          "data": {
            "image/png": "[encoded data removed]",
            "text/plain": [
              "<Figure size 1152x576 with 8 Axes>"
            ]
          },
          "metadata": {
            "image/png": {
              "height": 530,
              "width": 1145
            },
            "needs_background": "light"
          },
          "output_type": "display_data"
        }
      ],
      "source": [
        "text = 'I do not want to watch television anymore.'\n",
        "text = input_tokenizer(text.lower())\n",
        "text = ' '.join([token.text for token in text.iter_tokens()])\n",
        "\n",
        "translation, attention_scores = translate(text, transformer, input_vectorizer, target_token_from_index, target_language, prettify=False)\n",
        "\n",
        "plot_attention_weights(text, translation, attention_scores[0][0])"
      ]
    },
    {
      "cell_type": "markdown",
      "metadata": {
        "id": "ng1wzYxn_ME-"
      },
      "source": [
        "### Combine Multiple Translators"
      ]
    },
    {
      "cell_type": "code",
      "execution_count": null,
      "metadata": {
        "colab": {
          "base_uri": "https://localhost:8080/",
          "height": 233,
          "referenced_widgets": [
            "2ee1a66218b9468b94b9c59c2a94d8c1",
            "5a21e85e0b8245ada07102b1b2ad8edf",
            "4b49f792d5ef4b3a82cd6d8c115ff24f",
            "937798f4779247ae85bde84d977623c4",
            "1a332ade5ac14229827ed2f927b41c72",
            "df313896c98f4e1fba652b4e4eb198f5",
            "0db4e24703dd4f30a0ea4cbd7fbf27f5",
            "514fce0d91cd4a918ca2e0fb4ccf6d45",
            "7e5d9f5d6be94a988d05b818a5989037",
            "c707e038f7fd4a3f85b93edd73333323",
            "a97338bc3b8f4d8d8ac4958821708010"
          ]
        },
        "id": "IT1l37vPLRli",
        "outputId": "7b9fb287-4265-438f-d99d-ead1ba666273"
      },
      "outputs": [
        {
          "data": {
            "application/vnd.jupyter.widget-view+json": {
              "model_id": "2ee1a66218b9468b94b9c59c2a94d8c1",
              "version_major": 2,
              "version_minor": 0
            },
            "text/plain": [
              "Downloading https://raw.githubusercontent.com/stanfordnlp/stanza-resources/main/resources_1.4.0.json:   0%|   …"
            ]
          },
          "metadata": {
            "application/vnd.jupyter.widget-view+json": {
              "colab": {
                "custom_widget_manager": {
                  "url": "https://ssl.gstatic.com/colaboratory-static/widgets/colab-cdn-widget-manager/d2e234f7cc04bf79/manager.min.js"
                }
              }
            }
          },
          "output_type": "display_data"
        },
        {
          "name": "stderr",
          "output_type": "stream",
          "text": [
            "INFO:stanza:Loading these models for language: en (English):\n",
            "========================\n",
            "| Processor | Package  |\n",
            "------------------------\n",
            "| tokenize  | combined |\n",
            "========================\n",
            "\n",
            "INFO:stanza:Use device: gpu\n",
            "INFO:stanza:Loading: tokenize\n",
            "INFO:stanza:Done loading processors!\n"
          ]
        }
      ],
      "source": [
        "models = ['english_to_romanian', 'romanian_to_english']\n",
        "\n",
        "transformers = combine_models(models)\n",
        "\n",
        "input_vectorizer = load_pickle_as_layer(f'{env_dir}/text_processors/{models[0]}/input_vectorizer.pkl', layers.TextVectorization)\n",
        "target_token_from_index = load_pickle_as_layer(f'{env_dir}/text_processors/{models[-1]}/target_token_from_index.pkl', layers.StringLookup)\n",
        "\n",
        "input_tokenizer = stanza.Pipeline(lang=language_codes[models[0].split('_to_')[0]], processors='tokenize')"
      ]
    },
    {
      "cell_type": "markdown",
      "metadata": {
        "id": "l-nOY3SA_Pg8"
      },
      "source": [
        "### Translate Using Multiple Translators"
      ]
    },
    {
      "cell_type": "code",
      "execution_count": null,
      "metadata": {
        "colab": {
          "base_uri": "https://localhost:8080/"
        },
        "id": "AclYEEgP0B5u",
        "outputId": "b5550b9c-ff93-4271-c58a-09a03d09cab2"
      },
      "outputs": [
        {
          "name": "stdout",
          "output_type": "stream",
          "text": [
            "Today is Tuesday. >>> Azi e sâmbătă. >>> Today is saturday.\n"
          ]
        }
      ],
      "source": [
        "text = '''\n",
        "Today is Tuesday.\n",
        "'''\n",
        "\n",
        "show_intermediates = True\n",
        "\n",
        "text = text.strip().split('\\n')\n",
        "for line in text:\n",
        "  translation, intermediates = multi_translate(line, transformers)\n",
        "  if show_intermediates:\n",
        "    intermediates = ' >>> '.join(intermediates)\n",
        "    print(f'{line} >>> {intermediates} >>> {translation}')\n",
        "  else:\n",
        "    print(translation)"
      ]
    }
  ],
  "metadata": {
    "accelerator": "GPU",
    "colab": {
      "collapsed_sections": [],
      "name": "transformer_translation.ipynb",
      "provenance": []
    },
    "gpuClass": "standard",
    "kernelspec": {
      "display_name": "Python 3.9.7 ('base')",
      "language": "python",
      "name": "python3"
    },
    "language_info": {
      "codemirror_mode": {
        "name": "ipython",
        "version": 3
      },
      "file_extension": ".py",
      "mimetype": "text/x-python",
      "name": "python",
      "nbconvert_exporter": "python",
      "pygments_lexer": "ipython3",
      "version": "3.9.7"
    },
    "vscode": {
      "interpreter": {
        "hash": "93fa6f60273b968e7f411f9a967070b350b2836d4fb9143051768999582192e9"
      }
    },
    "widgets": {
      "application/vnd.jupyter.widget-state+json": {
        "0108a155ffc64b5a93ba7dadceeda5a0": {
          "model_module": "@jupyter-widgets/controls",
          "model_module_version": "1.5.0",
          "model_name": "DescriptionStyleModel",
          "state": {
            "_model_module": "@jupyter-widgets/controls",
            "_model_module_version": "1.5.0",
            "_model_name": "DescriptionStyleModel",
            "_view_count": null,
            "_view_module": "@jupyter-widgets/base",
            "_view_module_version": "1.2.0",
            "_view_name": "StyleView",
            "description_width": ""
          }
        },
        "01fb436d45a24d6ca6d4215b33dfbcb5": {
          "model_module": "@jupyter-widgets/controls",
          "model_module_version": "1.5.0",
          "model_name": "DescriptionStyleModel",
          "state": {
            "_model_module": "@jupyter-widgets/controls",
            "_model_module_version": "1.5.0",
            "_model_name": "DescriptionStyleModel",
            "_view_count": null,
            "_view_module": "@jupyter-widgets/base",
            "_view_module_version": "1.2.0",
            "_view_name": "StyleView",
            "description_width": ""
          }
        },
        "0288a77ce4bd4397a26eb4b042887b35": {
          "model_module": "@jupyter-widgets/controls",
          "model_module_version": "1.5.0",
          "model_name": "DescriptionStyleModel",
          "state": {
            "_model_module": "@jupyter-widgets/controls",
            "_model_module_version": "1.5.0",
            "_model_name": "DescriptionStyleModel",
            "_view_count": null,
            "_view_module": "@jupyter-widgets/base",
            "_view_module_version": "1.2.0",
            "_view_name": "StyleView",
            "description_width": ""
          }
        },
        "075c7a8894444859bc2deb14b8430f66": {
          "model_module": "@jupyter-widgets/controls",
          "model_module_version": "1.5.0",
          "model_name": "ProgressStyleModel",
          "state": {
            "_model_module": "@jupyter-widgets/controls",
            "_model_module_version": "1.5.0",
            "_model_name": "ProgressStyleModel",
            "_view_count": null,
            "_view_module": "@jupyter-widgets/base",
            "_view_module_version": "1.2.0",
            "_view_name": "StyleView",
            "bar_color": null,
            "description_width": ""
          }
        },
        "09033a42817346bb89ecbd3dfdd7d1b5": {
          "model_module": "@jupyter-widgets/base",
          "model_module_version": "1.2.0",
          "model_name": "LayoutModel",
          "state": {
            "_model_module": "@jupyter-widgets/base",
            "_model_module_version": "1.2.0",
            "_model_name": "LayoutModel",
            "_view_count": null,
            "_view_module": "@jupyter-widgets/base",
            "_view_module_version": "1.2.0",
            "_view_name": "LayoutView",
            "align_content": null,
            "align_items": null,
            "align_self": null,
            "border": null,
            "bottom": null,
            "display": null,
            "flex": null,
            "flex_flow": null,
            "grid_area": null,
            "grid_auto_columns": null,
            "grid_auto_flow": null,
            "grid_auto_rows": null,
            "grid_column": null,
            "grid_gap": null,
            "grid_row": null,
            "grid_template_areas": null,
            "grid_template_columns": null,
            "grid_template_rows": null,
            "height": null,
            "justify_content": null,
            "justify_items": null,
            "left": null,
            "margin": null,
            "max_height": null,
            "max_width": null,
            "min_height": null,
            "min_width": null,
            "object_fit": null,
            "object_position": null,
            "order": null,
            "overflow": null,
            "overflow_x": null,
            "overflow_y": null,
            "padding": null,
            "right": null,
            "top": null,
            "visibility": null,
            "width": null
          }
        },
        "0bf30889ee6749cdbfcd7248153afb26": {
          "model_module": "@jupyter-widgets/base",
          "model_module_version": "1.2.0",
          "model_name": "LayoutModel",
          "state": {
            "_model_module": "@jupyter-widgets/base",
            "_model_module_version": "1.2.0",
            "_model_name": "LayoutModel",
            "_view_count": null,
            "_view_module": "@jupyter-widgets/base",
            "_view_module_version": "1.2.0",
            "_view_name": "LayoutView",
            "align_content": null,
            "align_items": null,
            "align_self": null,
            "border": null,
            "bottom": null,
            "display": null,
            "flex": null,
            "flex_flow": null,
            "grid_area": null,
            "grid_auto_columns": null,
            "grid_auto_flow": null,
            "grid_auto_rows": null,
            "grid_column": null,
            "grid_gap": null,
            "grid_row": null,
            "grid_template_areas": null,
            "grid_template_columns": null,
            "grid_template_rows": null,
            "height": null,
            "justify_content": null,
            "justify_items": null,
            "left": null,
            "margin": null,
            "max_height": null,
            "max_width": null,
            "min_height": null,
            "min_width": null,
            "object_fit": null,
            "object_position": null,
            "order": null,
            "overflow": null,
            "overflow_x": null,
            "overflow_y": null,
            "padding": null,
            "right": null,
            "top": null,
            "visibility": null,
            "width": null
          }
        },
        "0db4e24703dd4f30a0ea4cbd7fbf27f5": {
          "model_module": "@jupyter-widgets/controls",
          "model_module_version": "1.5.0",
          "model_name": "DescriptionStyleModel",
          "state": {
            "_model_module": "@jupyter-widgets/controls",
            "_model_module_version": "1.5.0",
            "_model_name": "DescriptionStyleModel",
            "_view_count": null,
            "_view_module": "@jupyter-widgets/base",
            "_view_module_version": "1.2.0",
            "_view_name": "StyleView",
            "description_width": ""
          }
        },
        "14426096182043cca192339e3a7852ad": {
          "model_module": "@jupyter-widgets/controls",
          "model_module_version": "1.5.0",
          "model_name": "FloatProgressModel",
          "state": {
            "_dom_classes": [],
            "_model_module": "@jupyter-widgets/controls",
            "_model_module_version": "1.5.0",
            "_model_name": "FloatProgressModel",
            "_view_count": null,
            "_view_module": "@jupyter-widgets/controls",
            "_view_module_version": "1.5.0",
            "_view_name": "ProgressView",
            "bar_style": "success",
            "description": "",
            "description_tooltip": null,
            "layout": "IPY_MODEL_3a2972f5cd094cbcb33b81a4e071b100",
            "max": 649144,
            "min": 0,
            "orientation": "horizontal",
            "style": "IPY_MODEL_64f3a8a5f0834b20866c5af766a35bb7",
            "value": 649144
          }
        },
        "149b70360972424da423ed34dd37ceb4": {
          "model_module": "@jupyter-widgets/base",
          "model_module_version": "1.2.0",
          "model_name": "LayoutModel",
          "state": {
            "_model_module": "@jupyter-widgets/base",
            "_model_module_version": "1.2.0",
            "_model_name": "LayoutModel",
            "_view_count": null,
            "_view_module": "@jupyter-widgets/base",
            "_view_module_version": "1.2.0",
            "_view_name": "LayoutView",
            "align_content": null,
            "align_items": null,
            "align_self": null,
            "border": null,
            "bottom": null,
            "display": null,
            "flex": null,
            "flex_flow": null,
            "grid_area": null,
            "grid_auto_columns": null,
            "grid_auto_flow": null,
            "grid_auto_rows": null,
            "grid_column": null,
            "grid_gap": null,
            "grid_row": null,
            "grid_template_areas": null,
            "grid_template_columns": null,
            "grid_template_rows": null,
            "height": null,
            "justify_content": null,
            "justify_items": null,
            "left": null,
            "margin": null,
            "max_height": null,
            "max_width": null,
            "min_height": null,
            "min_width": null,
            "object_fit": null,
            "object_position": null,
            "order": null,
            "overflow": null,
            "overflow_x": null,
            "overflow_y": null,
            "padding": null,
            "right": null,
            "top": null,
            "visibility": null,
            "width": null
          }
        },
        "14b081c3546642dabb8c23b1eca5d664": {
          "model_module": "@jupyter-widgets/base",
          "model_module_version": "1.2.0",
          "model_name": "LayoutModel",
          "state": {
            "_model_module": "@jupyter-widgets/base",
            "_model_module_version": "1.2.0",
            "_model_name": "LayoutModel",
            "_view_count": null,
            "_view_module": "@jupyter-widgets/base",
            "_view_module_version": "1.2.0",
            "_view_name": "LayoutView",
            "align_content": null,
            "align_items": null,
            "align_self": null,
            "border": null,
            "bottom": null,
            "display": null,
            "flex": null,
            "flex_flow": null,
            "grid_area": null,
            "grid_auto_columns": null,
            "grid_auto_flow": null,
            "grid_auto_rows": null,
            "grid_column": null,
            "grid_gap": null,
            "grid_row": null,
            "grid_template_areas": null,
            "grid_template_columns": null,
            "grid_template_rows": null,
            "height": null,
            "justify_content": null,
            "justify_items": null,
            "left": null,
            "margin": null,
            "max_height": null,
            "max_width": null,
            "min_height": null,
            "min_width": null,
            "object_fit": null,
            "object_position": null,
            "order": null,
            "overflow": null,
            "overflow_x": null,
            "overflow_y": null,
            "padding": null,
            "right": null,
            "top": null,
            "visibility": null,
            "width": null
          }
        },
        "16813379fc7a4b0d8cdf05b16cd50d49": {
          "model_module": "@jupyter-widgets/base",
          "model_module_version": "1.2.0",
          "model_name": "LayoutModel",
          "state": {
            "_model_module": "@jupyter-widgets/base",
            "_model_module_version": "1.2.0",
            "_model_name": "LayoutModel",
            "_view_count": null,
            "_view_module": "@jupyter-widgets/base",
            "_view_module_version": "1.2.0",
            "_view_name": "LayoutView",
            "align_content": null,
            "align_items": null,
            "align_self": null,
            "border": null,
            "bottom": null,
            "display": null,
            "flex": null,
            "flex_flow": null,
            "grid_area": null,
            "grid_auto_columns": null,
            "grid_auto_flow": null,
            "grid_auto_rows": null,
            "grid_column": null,
            "grid_gap": null,
            "grid_row": null,
            "grid_template_areas": null,
            "grid_template_columns": null,
            "grid_template_rows": null,
            "height": null,
            "justify_content": null,
            "justify_items": null,
            "left": null,
            "margin": null,
            "max_height": null,
            "max_width": null,
            "min_height": null,
            "min_width": null,
            "object_fit": null,
            "object_position": null,
            "order": null,
            "overflow": null,
            "overflow_x": null,
            "overflow_y": null,
            "padding": null,
            "right": null,
            "top": null,
            "visibility": null,
            "width": null
          }
        },
        "19c83cfa8a1543ce85206fc9a30c4d43": {
          "model_module": "@jupyter-widgets/base",
          "model_module_version": "1.2.0",
          "model_name": "LayoutModel",
          "state": {
            "_model_module": "@jupyter-widgets/base",
            "_model_module_version": "1.2.0",
            "_model_name": "LayoutModel",
            "_view_count": null,
            "_view_module": "@jupyter-widgets/base",
            "_view_module_version": "1.2.0",
            "_view_name": "LayoutView",
            "align_content": null,
            "align_items": null,
            "align_self": null,
            "border": null,
            "bottom": null,
            "display": null,
            "flex": null,
            "flex_flow": null,
            "grid_area": null,
            "grid_auto_columns": null,
            "grid_auto_flow": null,
            "grid_auto_rows": null,
            "grid_column": null,
            "grid_gap": null,
            "grid_row": null,
            "grid_template_areas": null,
            "grid_template_columns": null,
            "grid_template_rows": null,
            "height": null,
            "justify_content": null,
            "justify_items": null,
            "left": null,
            "margin": null,
            "max_height": null,
            "max_width": null,
            "min_height": null,
            "min_width": null,
            "object_fit": null,
            "object_position": null,
            "order": null,
            "overflow": null,
            "overflow_x": null,
            "overflow_y": null,
            "padding": null,
            "right": null,
            "top": null,
            "visibility": null,
            "width": null
          }
        },
        "1a332ade5ac14229827ed2f927b41c72": {
          "model_module": "@jupyter-widgets/base",
          "model_module_version": "1.2.0",
          "model_name": "LayoutModel",
          "state": {
            "_model_module": "@jupyter-widgets/base",
            "_model_module_version": "1.2.0",
            "_model_name": "LayoutModel",
            "_view_count": null,
            "_view_module": "@jupyter-widgets/base",
            "_view_module_version": "1.2.0",
            "_view_name": "LayoutView",
            "align_content": null,
            "align_items": null,
            "align_self": null,
            "border": null,
            "bottom": null,
            "display": null,
            "flex": null,
            "flex_flow": null,
            "grid_area": null,
            "grid_auto_columns": null,
            "grid_auto_flow": null,
            "grid_auto_rows": null,
            "grid_column": null,
            "grid_gap": null,
            "grid_row": null,
            "grid_template_areas": null,
            "grid_template_columns": null,
            "grid_template_rows": null,
            "height": null,
            "justify_content": null,
            "justify_items": null,
            "left": null,
            "margin": null,
            "max_height": null,
            "max_width": null,
            "min_height": null,
            "min_width": null,
            "object_fit": null,
            "object_position": null,
            "order": null,
            "overflow": null,
            "overflow_x": null,
            "overflow_y": null,
            "padding": null,
            "right": null,
            "top": null,
            "visibility": null,
            "width": null
          }
        },
        "1db38bc9d290460fa83de211a8e85962": {
          "model_module": "@jupyter-widgets/controls",
          "model_module_version": "1.5.0",
          "model_name": "DescriptionStyleModel",
          "state": {
            "_model_module": "@jupyter-widgets/controls",
            "_model_module_version": "1.5.0",
            "_model_name": "DescriptionStyleModel",
            "_view_count": null,
            "_view_module": "@jupyter-widgets/base",
            "_view_module_version": "1.2.0",
            "_view_name": "StyleView",
            "description_width": ""
          }
        },
        "294b240e622d4e75b0c26fa9d7aaf0ac": {
          "model_module": "@jupyter-widgets/controls",
          "model_module_version": "1.5.0",
          "model_name": "ProgressStyleModel",
          "state": {
            "_model_module": "@jupyter-widgets/controls",
            "_model_module_version": "1.5.0",
            "_model_name": "ProgressStyleModel",
            "_view_count": null,
            "_view_module": "@jupyter-widgets/base",
            "_view_module_version": "1.2.0",
            "_view_name": "StyleView",
            "bar_color": null,
            "description_width": ""
          }
        },
        "2e38a5bbc44745ab9271d75c3cc3dc4d": {
          "model_module": "@jupyter-widgets/base",
          "model_module_version": "1.2.0",
          "model_name": "LayoutModel",
          "state": {
            "_model_module": "@jupyter-widgets/base",
            "_model_module_version": "1.2.0",
            "_model_name": "LayoutModel",
            "_view_count": null,
            "_view_module": "@jupyter-widgets/base",
            "_view_module_version": "1.2.0",
            "_view_name": "LayoutView",
            "align_content": null,
            "align_items": null,
            "align_self": null,
            "border": null,
            "bottom": null,
            "display": null,
            "flex": null,
            "flex_flow": null,
            "grid_area": null,
            "grid_auto_columns": null,
            "grid_auto_flow": null,
            "grid_auto_rows": null,
            "grid_column": null,
            "grid_gap": null,
            "grid_row": null,
            "grid_template_areas": null,
            "grid_template_columns": null,
            "grid_template_rows": null,
            "height": null,
            "justify_content": null,
            "justify_items": null,
            "left": null,
            "margin": null,
            "max_height": null,
            "max_width": null,
            "min_height": null,
            "min_width": null,
            "object_fit": null,
            "object_position": null,
            "order": null,
            "overflow": null,
            "overflow_x": null,
            "overflow_y": null,
            "padding": null,
            "right": null,
            "top": null,
            "visibility": null,
            "width": null
          }
        },
        "2ee1a66218b9468b94b9c59c2a94d8c1": {
          "model_module": "@jupyter-widgets/controls",
          "model_module_version": "1.5.0",
          "model_name": "HBoxModel",
          "state": {
            "_dom_classes": [],
            "_model_module": "@jupyter-widgets/controls",
            "_model_module_version": "1.5.0",
            "_model_name": "HBoxModel",
            "_view_count": null,
            "_view_module": "@jupyter-widgets/controls",
            "_view_module_version": "1.5.0",
            "_view_name": "HBoxView",
            "box_style": "",
            "children": [
              "IPY_MODEL_5a21e85e0b8245ada07102b1b2ad8edf",
              "IPY_MODEL_4b49f792d5ef4b3a82cd6d8c115ff24f",
              "IPY_MODEL_937798f4779247ae85bde84d977623c4"
            ],
            "layout": "IPY_MODEL_1a332ade5ac14229827ed2f927b41c72"
          }
        },
        "3458046c184e4524a1cfa5c06f9de31c": {
          "model_module": "@jupyter-widgets/controls",
          "model_module_version": "1.5.0",
          "model_name": "HTMLModel",
          "state": {
            "_dom_classes": [],
            "_model_module": "@jupyter-widgets/controls",
            "_model_module_version": "1.5.0",
            "_model_name": "HTMLModel",
            "_view_count": null,
            "_view_module": "@jupyter-widgets/controls",
            "_view_module_version": "1.5.0",
            "_view_name": "HTMLView",
            "description": "",
            "description_tooltip": null,
            "layout": "IPY_MODEL_506223e55d374457bfebd764231398a8",
            "placeholder": "​",
            "style": "IPY_MODEL_01fb436d45a24d6ca6d4215b33dfbcb5",
            "value": " 1.16M/1.16M [00:00&lt;00:00, 841kB/s]"
          }
        },
        "351eb5b8d052498ca677d0af6cf63195": {
          "model_module": "@jupyter-widgets/base",
          "model_module_version": "1.2.0",
          "model_name": "LayoutModel",
          "state": {
            "_model_module": "@jupyter-widgets/base",
            "_model_module_version": "1.2.0",
            "_model_name": "LayoutModel",
            "_view_count": null,
            "_view_module": "@jupyter-widgets/base",
            "_view_module_version": "1.2.0",
            "_view_name": "LayoutView",
            "align_content": null,
            "align_items": null,
            "align_self": null,
            "border": null,
            "bottom": null,
            "display": null,
            "flex": null,
            "flex_flow": null,
            "grid_area": null,
            "grid_auto_columns": null,
            "grid_auto_flow": null,
            "grid_auto_rows": null,
            "grid_column": null,
            "grid_gap": null,
            "grid_row": null,
            "grid_template_areas": null,
            "grid_template_columns": null,
            "grid_template_rows": null,
            "height": null,
            "justify_content": null,
            "justify_items": null,
            "left": null,
            "margin": null,
            "max_height": null,
            "max_width": null,
            "min_height": null,
            "min_width": null,
            "object_fit": null,
            "object_position": null,
            "order": null,
            "overflow": null,
            "overflow_x": null,
            "overflow_y": null,
            "padding": null,
            "right": null,
            "top": null,
            "visibility": null,
            "width": null
          }
        },
        "37b9073f455d40a08b67b707c7592525": {
          "model_module": "@jupyter-widgets/controls",
          "model_module_version": "1.5.0",
          "model_name": "HTMLModel",
          "state": {
            "_dom_classes": [],
            "_model_module": "@jupyter-widgets/controls",
            "_model_module_version": "1.5.0",
            "_model_name": "HTMLModel",
            "_view_count": null,
            "_view_module": "@jupyter-widgets/controls",
            "_view_module_version": "1.5.0",
            "_view_name": "HTMLView",
            "description": "",
            "description_tooltip": null,
            "layout": "IPY_MODEL_09033a42817346bb89ecbd3dfdd7d1b5",
            "placeholder": "​",
            "style": "IPY_MODEL_8ff1ff6dd60a42e2a43176a20ae7aff1",
            "value": " 154k/? [00:00&lt;00:00, 4.07MB/s]"
          }
        },
        "38891035308b4882a0ff8e19a94272d0": {
          "model_module": "@jupyter-widgets/base",
          "model_module_version": "1.2.0",
          "model_name": "LayoutModel",
          "state": {
            "_model_module": "@jupyter-widgets/base",
            "_model_module_version": "1.2.0",
            "_model_name": "LayoutModel",
            "_view_count": null,
            "_view_module": "@jupyter-widgets/base",
            "_view_module_version": "1.2.0",
            "_view_name": "LayoutView",
            "align_content": null,
            "align_items": null,
            "align_self": null,
            "border": null,
            "bottom": null,
            "display": null,
            "flex": null,
            "flex_flow": null,
            "grid_area": null,
            "grid_auto_columns": null,
            "grid_auto_flow": null,
            "grid_auto_rows": null,
            "grid_column": null,
            "grid_gap": null,
            "grid_row": null,
            "grid_template_areas": null,
            "grid_template_columns": null,
            "grid_template_rows": null,
            "height": null,
            "justify_content": null,
            "justify_items": null,
            "left": null,
            "margin": null,
            "max_height": null,
            "max_width": null,
            "min_height": null,
            "min_width": null,
            "object_fit": null,
            "object_position": null,
            "order": null,
            "overflow": null,
            "overflow_x": null,
            "overflow_y": null,
            "padding": null,
            "right": null,
            "top": null,
            "visibility": null,
            "width": null
          }
        },
        "3a2972f5cd094cbcb33b81a4e071b100": {
          "model_module": "@jupyter-widgets/base",
          "model_module_version": "1.2.0",
          "model_name": "LayoutModel",
          "state": {
            "_model_module": "@jupyter-widgets/base",
            "_model_module_version": "1.2.0",
            "_model_name": "LayoutModel",
            "_view_count": null,
            "_view_module": "@jupyter-widgets/base",
            "_view_module_version": "1.2.0",
            "_view_name": "LayoutView",
            "align_content": null,
            "align_items": null,
            "align_self": null,
            "border": null,
            "bottom": null,
            "display": null,
            "flex": null,
            "flex_flow": null,
            "grid_area": null,
            "grid_auto_columns": null,
            "grid_auto_flow": null,
            "grid_auto_rows": null,
            "grid_column": null,
            "grid_gap": null,
            "grid_row": null,
            "grid_template_areas": null,
            "grid_template_columns": null,
            "grid_template_rows": null,
            "height": null,
            "justify_content": null,
            "justify_items": null,
            "left": null,
            "margin": null,
            "max_height": null,
            "max_width": null,
            "min_height": null,
            "min_width": null,
            "object_fit": null,
            "object_position": null,
            "order": null,
            "overflow": null,
            "overflow_x": null,
            "overflow_y": null,
            "padding": null,
            "right": null,
            "top": null,
            "visibility": null,
            "width": null
          }
        },
        "3e295836ee164c838ead50b2b9523cd6": {
          "model_module": "@jupyter-widgets/base",
          "model_module_version": "1.2.0",
          "model_name": "LayoutModel",
          "state": {
            "_model_module": "@jupyter-widgets/base",
            "_model_module_version": "1.2.0",
            "_model_name": "LayoutModel",
            "_view_count": null,
            "_view_module": "@jupyter-widgets/base",
            "_view_module_version": "1.2.0",
            "_view_name": "LayoutView",
            "align_content": null,
            "align_items": null,
            "align_self": null,
            "border": null,
            "bottom": null,
            "display": null,
            "flex": null,
            "flex_flow": null,
            "grid_area": null,
            "grid_auto_columns": null,
            "grid_auto_flow": null,
            "grid_auto_rows": null,
            "grid_column": null,
            "grid_gap": null,
            "grid_row": null,
            "grid_template_areas": null,
            "grid_template_columns": null,
            "grid_template_rows": null,
            "height": null,
            "justify_content": null,
            "justify_items": null,
            "left": null,
            "margin": null,
            "max_height": null,
            "max_width": null,
            "min_height": null,
            "min_width": null,
            "object_fit": null,
            "object_position": null,
            "order": null,
            "overflow": null,
            "overflow_x": null,
            "overflow_y": null,
            "padding": null,
            "right": null,
            "top": null,
            "visibility": null,
            "width": null
          }
        },
        "442b21e6abb840c5bd185ccde0eee85c": {
          "model_module": "@jupyter-widgets/controls",
          "model_module_version": "1.5.0",
          "model_name": "ProgressStyleModel",
          "state": {
            "_model_module": "@jupyter-widgets/controls",
            "_model_module_version": "1.5.0",
            "_model_name": "ProgressStyleModel",
            "_view_count": null,
            "_view_module": "@jupyter-widgets/base",
            "_view_module_version": "1.2.0",
            "_view_name": "StyleView",
            "bar_color": null,
            "description_width": ""
          }
        },
        "4b49f792d5ef4b3a82cd6d8c115ff24f": {
          "model_module": "@jupyter-widgets/controls",
          "model_module_version": "1.5.0",
          "model_name": "FloatProgressModel",
          "state": {
            "_dom_classes": [],
            "_model_module": "@jupyter-widgets/controls",
            "_model_module_version": "1.5.0",
            "_model_name": "FloatProgressModel",
            "_view_count": null,
            "_view_module": "@jupyter-widgets/controls",
            "_view_module_version": "1.5.0",
            "_view_name": "ProgressView",
            "bar_style": "success",
            "description": "",
            "description_tooltip": null,
            "layout": "IPY_MODEL_514fce0d91cd4a918ca2e0fb4ccf6d45",
            "max": 25998,
            "min": 0,
            "orientation": "horizontal",
            "style": "IPY_MODEL_7e5d9f5d6be94a988d05b818a5989037",
            "value": 25998
          }
        },
        "4fae01be81144d3faf3a4939e463ad13": {
          "model_module": "@jupyter-widgets/controls",
          "model_module_version": "1.5.0",
          "model_name": "HTMLModel",
          "state": {
            "_dom_classes": [],
            "_model_module": "@jupyter-widgets/controls",
            "_model_module_version": "1.5.0",
            "_model_name": "HTMLModel",
            "_view_count": null,
            "_view_module": "@jupyter-widgets/controls",
            "_view_module_version": "1.5.0",
            "_view_name": "HTMLView",
            "description": "",
            "description_tooltip": null,
            "layout": "IPY_MODEL_38891035308b4882a0ff8e19a94272d0",
            "placeholder": "​",
            "style": "IPY_MODEL_7eb1127d68ca4059b1754ea20b32ed13",
            "value": " 154k/? [00:00&lt;00:00, 4.39MB/s]"
          }
        },
        "506223e55d374457bfebd764231398a8": {
          "model_module": "@jupyter-widgets/base",
          "model_module_version": "1.2.0",
          "model_name": "LayoutModel",
          "state": {
            "_model_module": "@jupyter-widgets/base",
            "_model_module_version": "1.2.0",
            "_model_name": "LayoutModel",
            "_view_count": null,
            "_view_module": "@jupyter-widgets/base",
            "_view_module_version": "1.2.0",
            "_view_name": "LayoutView",
            "align_content": null,
            "align_items": null,
            "align_self": null,
            "border": null,
            "bottom": null,
            "display": null,
            "flex": null,
            "flex_flow": null,
            "grid_area": null,
            "grid_auto_columns": null,
            "grid_auto_flow": null,
            "grid_auto_rows": null,
            "grid_column": null,
            "grid_gap": null,
            "grid_row": null,
            "grid_template_areas": null,
            "grid_template_columns": null,
            "grid_template_rows": null,
            "height": null,
            "justify_content": null,
            "justify_items": null,
            "left": null,
            "margin": null,
            "max_height": null,
            "max_width": null,
            "min_height": null,
            "min_width": null,
            "object_fit": null,
            "object_position": null,
            "order": null,
            "overflow": null,
            "overflow_x": null,
            "overflow_y": null,
            "padding": null,
            "right": null,
            "top": null,
            "visibility": null,
            "width": null
          }
        },
        "50e58b673030419da2386d04117fca48": {
          "model_module": "@jupyter-widgets/controls",
          "model_module_version": "1.5.0",
          "model_name": "HTMLModel",
          "state": {
            "_dom_classes": [],
            "_model_module": "@jupyter-widgets/controls",
            "_model_module_version": "1.5.0",
            "_model_name": "HTMLModel",
            "_view_count": null,
            "_view_module": "@jupyter-widgets/controls",
            "_view_module_version": "1.5.0",
            "_view_name": "HTMLView",
            "description": "",
            "description_tooltip": null,
            "layout": "IPY_MODEL_0bf30889ee6749cdbfcd7248153afb26",
            "placeholder": "​",
            "style": "IPY_MODEL_b53550d89bc64925b71963044680b99e",
            "value": " 649k/649k [00:00&lt;00:00, 819kB/s]"
          }
        },
        "514fce0d91cd4a918ca2e0fb4ccf6d45": {
          "model_module": "@jupyter-widgets/base",
          "model_module_version": "1.2.0",
          "model_name": "LayoutModel",
          "state": {
            "_model_module": "@jupyter-widgets/base",
            "_model_module_version": "1.2.0",
            "_model_name": "LayoutModel",
            "_view_count": null,
            "_view_module": "@jupyter-widgets/base",
            "_view_module_version": "1.2.0",
            "_view_name": "LayoutView",
            "align_content": null,
            "align_items": null,
            "align_self": null,
            "border": null,
            "bottom": null,
            "display": null,
            "flex": null,
            "flex_flow": null,
            "grid_area": null,
            "grid_auto_columns": null,
            "grid_auto_flow": null,
            "grid_auto_rows": null,
            "grid_column": null,
            "grid_gap": null,
            "grid_row": null,
            "grid_template_areas": null,
            "grid_template_columns": null,
            "grid_template_rows": null,
            "height": null,
            "justify_content": null,
            "justify_items": null,
            "left": null,
            "margin": null,
            "max_height": null,
            "max_width": null,
            "min_height": null,
            "min_width": null,
            "object_fit": null,
            "object_position": null,
            "order": null,
            "overflow": null,
            "overflow_x": null,
            "overflow_y": null,
            "padding": null,
            "right": null,
            "top": null,
            "visibility": null,
            "width": null
          }
        },
        "5a21e85e0b8245ada07102b1b2ad8edf": {
          "model_module": "@jupyter-widgets/controls",
          "model_module_version": "1.5.0",
          "model_name": "HTMLModel",
          "state": {
            "_dom_classes": [],
            "_model_module": "@jupyter-widgets/controls",
            "_model_module_version": "1.5.0",
            "_model_name": "HTMLModel",
            "_view_count": null,
            "_view_module": "@jupyter-widgets/controls",
            "_view_module_version": "1.5.0",
            "_view_name": "HTMLView",
            "description": "",
            "description_tooltip": null,
            "layout": "IPY_MODEL_df313896c98f4e1fba652b4e4eb198f5",
            "placeholder": "​",
            "style": "IPY_MODEL_0db4e24703dd4f30a0ea4cbd7fbf27f5",
            "value": "Downloading https://raw.githubusercontent.com/stanfordnlp/stanza-resources/main/resources_1.4.0.json: "
          }
        },
        "5a51d0d912a140fcb6b4d3f270c8eca3": {
          "model_module": "@jupyter-widgets/controls",
          "model_module_version": "1.5.0",
          "model_name": "HBoxModel",
          "state": {
            "_dom_classes": [],
            "_model_module": "@jupyter-widgets/controls",
            "_model_module_version": "1.5.0",
            "_model_name": "HBoxModel",
            "_view_count": null,
            "_view_module": "@jupyter-widgets/controls",
            "_view_module_version": "1.5.0",
            "_view_name": "HBoxView",
            "box_style": "",
            "children": [
              "IPY_MODEL_bd4cf13f231c49748820ae685f79ce43",
              "IPY_MODEL_f664b44346324ca7b2fe1a2a0d5549b1",
              "IPY_MODEL_37b9073f455d40a08b67b707c7592525"
            ],
            "layout": "IPY_MODEL_8351b0e5ed994af4aef3efb3d55e1d47"
          }
        },
        "5b700b65e4534850bbc24956f6ac3d90": {
          "model_module": "@jupyter-widgets/controls",
          "model_module_version": "1.5.0",
          "model_name": "DescriptionStyleModel",
          "state": {
            "_model_module": "@jupyter-widgets/controls",
            "_model_module_version": "1.5.0",
            "_model_name": "DescriptionStyleModel",
            "_view_count": null,
            "_view_module": "@jupyter-widgets/base",
            "_view_module_version": "1.2.0",
            "_view_name": "StyleView",
            "description_width": ""
          }
        },
        "5d70964e300c49f580644064bbd7bfc9": {
          "model_module": "@jupyter-widgets/controls",
          "model_module_version": "1.5.0",
          "model_name": "HTMLModel",
          "state": {
            "_dom_classes": [],
            "_model_module": "@jupyter-widgets/controls",
            "_model_module_version": "1.5.0",
            "_model_name": "HTMLModel",
            "_view_count": null,
            "_view_module": "@jupyter-widgets/controls",
            "_view_module_version": "1.5.0",
            "_view_name": "HTMLView",
            "description": "",
            "description_tooltip": null,
            "layout": "IPY_MODEL_16813379fc7a4b0d8cdf05b16cd50d49",
            "placeholder": "​",
            "style": "IPY_MODEL_0108a155ffc64b5a93ba7dadceeda5a0",
            "value": "Downloading https://raw.githubusercontent.com/stanfordnlp/stanza-resources/main/resources_1.4.0.json: "
          }
        },
        "5f9beec749c347c39e708aa80368905a": {
          "model_module": "@jupyter-widgets/controls",
          "model_module_version": "1.5.0",
          "model_name": "HTMLModel",
          "state": {
            "_dom_classes": [],
            "_model_module": "@jupyter-widgets/controls",
            "_model_module_version": "1.5.0",
            "_model_name": "HTMLModel",
            "_view_count": null,
            "_view_module": "@jupyter-widgets/controls",
            "_view_module_version": "1.5.0",
            "_view_name": "HTMLView",
            "description": "",
            "description_tooltip": null,
            "layout": "IPY_MODEL_e996b195709549aa81b1e918eb07c26e",
            "placeholder": "​",
            "style": "IPY_MODEL_5b700b65e4534850bbc24956f6ac3d90",
            "value": "Downloading https://huggingface.co/stanfordnlp/stanza-it/resolve/v1.4.0/models/mwt/combined.pt: 100%"
          }
        },
        "63313dff10e048238e7a2fbe296e62b6": {
          "model_module": "@jupyter-widgets/controls",
          "model_module_version": "1.5.0",
          "model_name": "DescriptionStyleModel",
          "state": {
            "_model_module": "@jupyter-widgets/controls",
            "_model_module_version": "1.5.0",
            "_model_name": "DescriptionStyleModel",
            "_view_count": null,
            "_view_module": "@jupyter-widgets/base",
            "_view_module_version": "1.2.0",
            "_view_name": "StyleView",
            "description_width": ""
          }
        },
        "64f3a8a5f0834b20866c5af766a35bb7": {
          "model_module": "@jupyter-widgets/controls",
          "model_module_version": "1.5.0",
          "model_name": "ProgressStyleModel",
          "state": {
            "_model_module": "@jupyter-widgets/controls",
            "_model_module_version": "1.5.0",
            "_model_name": "ProgressStyleModel",
            "_view_count": null,
            "_view_module": "@jupyter-widgets/base",
            "_view_module_version": "1.2.0",
            "_view_name": "StyleView",
            "bar_color": null,
            "description_width": ""
          }
        },
        "66908018c4a744b0ad64fc04a169b06f": {
          "model_module": "@jupyter-widgets/controls",
          "model_module_version": "1.5.0",
          "model_name": "FloatProgressModel",
          "state": {
            "_dom_classes": [],
            "_model_module": "@jupyter-widgets/controls",
            "_model_module_version": "1.5.0",
            "_model_name": "FloatProgressModel",
            "_view_count": null,
            "_view_module": "@jupyter-widgets/controls",
            "_view_module_version": "1.5.0",
            "_view_name": "ProgressView",
            "bar_style": "success",
            "description": "",
            "description_tooltip": null,
            "layout": "IPY_MODEL_dfcea1f1983244738f01ded897b3c2bc",
            "max": 1161013,
            "min": 0,
            "orientation": "horizontal",
            "style": "IPY_MODEL_294b240e622d4e75b0c26fa9d7aaf0ac",
            "value": 1161013
          }
        },
        "73868db973bb4c3cb26cb4a30f5522ce": {
          "model_module": "@jupyter-widgets/controls",
          "model_module_version": "1.5.0",
          "model_name": "HTMLModel",
          "state": {
            "_dom_classes": [],
            "_model_module": "@jupyter-widgets/controls",
            "_model_module_version": "1.5.0",
            "_model_name": "HTMLModel",
            "_view_count": null,
            "_view_module": "@jupyter-widgets/controls",
            "_view_module_version": "1.5.0",
            "_view_name": "HTMLView",
            "description": "",
            "description_tooltip": null,
            "layout": "IPY_MODEL_14b081c3546642dabb8c23b1eca5d664",
            "placeholder": "​",
            "style": "IPY_MODEL_0288a77ce4bd4397a26eb4b042887b35",
            "value": " 154k/? [00:00&lt;00:00, 2.83MB/s]"
          }
        },
        "7e5d9f5d6be94a988d05b818a5989037": {
          "model_module": "@jupyter-widgets/controls",
          "model_module_version": "1.5.0",
          "model_name": "ProgressStyleModel",
          "state": {
            "_model_module": "@jupyter-widgets/controls",
            "_model_module_version": "1.5.0",
            "_model_name": "ProgressStyleModel",
            "_view_count": null,
            "_view_module": "@jupyter-widgets/base",
            "_view_module_version": "1.2.0",
            "_view_name": "StyleView",
            "bar_color": null,
            "description_width": ""
          }
        },
        "7eb1127d68ca4059b1754ea20b32ed13": {
          "model_module": "@jupyter-widgets/controls",
          "model_module_version": "1.5.0",
          "model_name": "DescriptionStyleModel",
          "state": {
            "_model_module": "@jupyter-widgets/controls",
            "_model_module_version": "1.5.0",
            "_model_name": "DescriptionStyleModel",
            "_view_count": null,
            "_view_module": "@jupyter-widgets/base",
            "_view_module_version": "1.2.0",
            "_view_name": "StyleView",
            "description_width": ""
          }
        },
        "8351b0e5ed994af4aef3efb3d55e1d47": {
          "model_module": "@jupyter-widgets/base",
          "model_module_version": "1.2.0",
          "model_name": "LayoutModel",
          "state": {
            "_model_module": "@jupyter-widgets/base",
            "_model_module_version": "1.2.0",
            "_model_name": "LayoutModel",
            "_view_count": null,
            "_view_module": "@jupyter-widgets/base",
            "_view_module_version": "1.2.0",
            "_view_name": "LayoutView",
            "align_content": null,
            "align_items": null,
            "align_self": null,
            "border": null,
            "bottom": null,
            "display": null,
            "flex": null,
            "flex_flow": null,
            "grid_area": null,
            "grid_auto_columns": null,
            "grid_auto_flow": null,
            "grid_auto_rows": null,
            "grid_column": null,
            "grid_gap": null,
            "grid_row": null,
            "grid_template_areas": null,
            "grid_template_columns": null,
            "grid_template_rows": null,
            "height": null,
            "justify_content": null,
            "justify_items": null,
            "left": null,
            "margin": null,
            "max_height": null,
            "max_width": null,
            "min_height": null,
            "min_width": null,
            "object_fit": null,
            "object_position": null,
            "order": null,
            "overflow": null,
            "overflow_x": null,
            "overflow_y": null,
            "padding": null,
            "right": null,
            "top": null,
            "visibility": null,
            "width": null
          }
        },
        "8ff1ff6dd60a42e2a43176a20ae7aff1": {
          "model_module": "@jupyter-widgets/controls",
          "model_module_version": "1.5.0",
          "model_name": "DescriptionStyleModel",
          "state": {
            "_model_module": "@jupyter-widgets/controls",
            "_model_module_version": "1.5.0",
            "_model_name": "DescriptionStyleModel",
            "_view_count": null,
            "_view_module": "@jupyter-widgets/base",
            "_view_module_version": "1.2.0",
            "_view_name": "StyleView",
            "description_width": ""
          }
        },
        "924af9b2f7e24be98f28b6a2594b6c73": {
          "model_module": "@jupyter-widgets/controls",
          "model_module_version": "1.5.0",
          "model_name": "HBoxModel",
          "state": {
            "_dom_classes": [],
            "_model_module": "@jupyter-widgets/controls",
            "_model_module_version": "1.5.0",
            "_model_name": "HBoxModel",
            "_view_count": null,
            "_view_module": "@jupyter-widgets/controls",
            "_view_module_version": "1.5.0",
            "_view_name": "HBoxView",
            "box_style": "",
            "children": [
              "IPY_MODEL_9c70885b4a7845e59059e7b3f7b781f2",
              "IPY_MODEL_14426096182043cca192339e3a7852ad",
              "IPY_MODEL_50e58b673030419da2386d04117fca48"
            ],
            "layout": "IPY_MODEL_3e295836ee164c838ead50b2b9523cd6"
          }
        },
        "937798f4779247ae85bde84d977623c4": {
          "model_module": "@jupyter-widgets/controls",
          "model_module_version": "1.5.0",
          "model_name": "HTMLModel",
          "state": {
            "_dom_classes": [],
            "_model_module": "@jupyter-widgets/controls",
            "_model_module_version": "1.5.0",
            "_model_name": "HTMLModel",
            "_view_count": null,
            "_view_module": "@jupyter-widgets/controls",
            "_view_module_version": "1.5.0",
            "_view_name": "HTMLView",
            "description": "",
            "description_tooltip": null,
            "layout": "IPY_MODEL_c707e038f7fd4a3f85b93edd73333323",
            "placeholder": "​",
            "style": "IPY_MODEL_a97338bc3b8f4d8d8ac4958821708010",
            "value": " 154k/? [00:00&lt;00:00, 3.04MB/s]"
          }
        },
        "9c70885b4a7845e59059e7b3f7b781f2": {
          "model_module": "@jupyter-widgets/controls",
          "model_module_version": "1.5.0",
          "model_name": "HTMLModel",
          "state": {
            "_dom_classes": [],
            "_model_module": "@jupyter-widgets/controls",
            "_model_module_version": "1.5.0",
            "_model_name": "HTMLModel",
            "_view_count": null,
            "_view_module": "@jupyter-widgets/controls",
            "_view_module_version": "1.5.0",
            "_view_name": "HTMLView",
            "description": "",
            "description_tooltip": null,
            "layout": "IPY_MODEL_cd06e7becf374cd2bc808ecb16f53411",
            "placeholder": "​",
            "style": "IPY_MODEL_1db38bc9d290460fa83de211a8e85962",
            "value": "Downloading https://huggingface.co/stanfordnlp/stanza-it/resolve/v1.4.0/models/tokenize/combined.pt: 100%"
          }
        },
        "a069a1d139834fb99c5dab35e5ec8bcd": {
          "model_module": "@jupyter-widgets/base",
          "model_module_version": "1.2.0",
          "model_name": "LayoutModel",
          "state": {
            "_model_module": "@jupyter-widgets/base",
            "_model_module_version": "1.2.0",
            "_model_name": "LayoutModel",
            "_view_count": null,
            "_view_module": "@jupyter-widgets/base",
            "_view_module_version": "1.2.0",
            "_view_name": "LayoutView",
            "align_content": null,
            "align_items": null,
            "align_self": null,
            "border": null,
            "bottom": null,
            "display": null,
            "flex": null,
            "flex_flow": null,
            "grid_area": null,
            "grid_auto_columns": null,
            "grid_auto_flow": null,
            "grid_auto_rows": null,
            "grid_column": null,
            "grid_gap": null,
            "grid_row": null,
            "grid_template_areas": null,
            "grid_template_columns": null,
            "grid_template_rows": null,
            "height": null,
            "justify_content": null,
            "justify_items": null,
            "left": null,
            "margin": null,
            "max_height": null,
            "max_width": null,
            "min_height": null,
            "min_width": null,
            "object_fit": null,
            "object_position": null,
            "order": null,
            "overflow": null,
            "overflow_x": null,
            "overflow_y": null,
            "padding": null,
            "right": null,
            "top": null,
            "visibility": null,
            "width": null
          }
        },
        "a132c1b3faf0458aae943e7de4e0e3a1": {
          "model_module": "@jupyter-widgets/controls",
          "model_module_version": "1.5.0",
          "model_name": "HBoxModel",
          "state": {
            "_dom_classes": [],
            "_model_module": "@jupyter-widgets/controls",
            "_model_module_version": "1.5.0",
            "_model_name": "HBoxModel",
            "_view_count": null,
            "_view_module": "@jupyter-widgets/controls",
            "_view_module_version": "1.5.0",
            "_view_name": "HBoxView",
            "box_style": "",
            "children": [
              "IPY_MODEL_b6d4135c7abc4d22b40d53b9b05d5c61",
              "IPY_MODEL_a52742efe28c4a9a882b6131c589f5cf",
              "IPY_MODEL_4fae01be81144d3faf3a4939e463ad13"
            ],
            "layout": "IPY_MODEL_a069a1d139834fb99c5dab35e5ec8bcd"
          }
        },
        "a52742efe28c4a9a882b6131c589f5cf": {
          "model_module": "@jupyter-widgets/controls",
          "model_module_version": "1.5.0",
          "model_name": "FloatProgressModel",
          "state": {
            "_dom_classes": [],
            "_model_module": "@jupyter-widgets/controls",
            "_model_module_version": "1.5.0",
            "_model_name": "FloatProgressModel",
            "_view_count": null,
            "_view_module": "@jupyter-widgets/controls",
            "_view_module_version": "1.5.0",
            "_view_name": "ProgressView",
            "bar_style": "success",
            "description": "",
            "description_tooltip": null,
            "layout": "IPY_MODEL_149b70360972424da423ed34dd37ceb4",
            "max": 25998,
            "min": 0,
            "orientation": "horizontal",
            "style": "IPY_MODEL_442b21e6abb840c5bd185ccde0eee85c",
            "value": 25998
          }
        },
        "a97338bc3b8f4d8d8ac4958821708010": {
          "model_module": "@jupyter-widgets/controls",
          "model_module_version": "1.5.0",
          "model_name": "DescriptionStyleModel",
          "state": {
            "_model_module": "@jupyter-widgets/controls",
            "_model_module_version": "1.5.0",
            "_model_name": "DescriptionStyleModel",
            "_view_count": null,
            "_view_module": "@jupyter-widgets/base",
            "_view_module_version": "1.2.0",
            "_view_name": "StyleView",
            "description_width": ""
          }
        },
        "adc166750eb34a44a778d82c67961689": {
          "model_module": "@jupyter-widgets/controls",
          "model_module_version": "1.5.0",
          "model_name": "FloatProgressModel",
          "state": {
            "_dom_classes": [],
            "_model_module": "@jupyter-widgets/controls",
            "_model_module_version": "1.5.0",
            "_model_name": "FloatProgressModel",
            "_view_count": null,
            "_view_module": "@jupyter-widgets/controls",
            "_view_module_version": "1.5.0",
            "_view_name": "ProgressView",
            "bar_style": "success",
            "description": "",
            "description_tooltip": null,
            "layout": "IPY_MODEL_351eb5b8d052498ca677d0af6cf63195",
            "max": 25998,
            "min": 0,
            "orientation": "horizontal",
            "style": "IPY_MODEL_fa43dfa6653e4c1eaab8de06090775e4",
            "value": 25998
          }
        },
        "aea67f96a0634ccfa16f540896c4969d": {
          "model_module": "@jupyter-widgets/base",
          "model_module_version": "1.2.0",
          "model_name": "LayoutModel",
          "state": {
            "_model_module": "@jupyter-widgets/base",
            "_model_module_version": "1.2.0",
            "_model_name": "LayoutModel",
            "_view_count": null,
            "_view_module": "@jupyter-widgets/base",
            "_view_module_version": "1.2.0",
            "_view_name": "LayoutView",
            "align_content": null,
            "align_items": null,
            "align_self": null,
            "border": null,
            "bottom": null,
            "display": null,
            "flex": null,
            "flex_flow": null,
            "grid_area": null,
            "grid_auto_columns": null,
            "grid_auto_flow": null,
            "grid_auto_rows": null,
            "grid_column": null,
            "grid_gap": null,
            "grid_row": null,
            "grid_template_areas": null,
            "grid_template_columns": null,
            "grid_template_rows": null,
            "height": null,
            "justify_content": null,
            "justify_items": null,
            "left": null,
            "margin": null,
            "max_height": null,
            "max_width": null,
            "min_height": null,
            "min_width": null,
            "object_fit": null,
            "object_position": null,
            "order": null,
            "overflow": null,
            "overflow_x": null,
            "overflow_y": null,
            "padding": null,
            "right": null,
            "top": null,
            "visibility": null,
            "width": null
          }
        },
        "b53550d89bc64925b71963044680b99e": {
          "model_module": "@jupyter-widgets/controls",
          "model_module_version": "1.5.0",
          "model_name": "DescriptionStyleModel",
          "state": {
            "_model_module": "@jupyter-widgets/controls",
            "_model_module_version": "1.5.0",
            "_model_name": "DescriptionStyleModel",
            "_view_count": null,
            "_view_module": "@jupyter-widgets/base",
            "_view_module_version": "1.2.0",
            "_view_name": "StyleView",
            "description_width": ""
          }
        },
        "b6d4135c7abc4d22b40d53b9b05d5c61": {
          "model_module": "@jupyter-widgets/controls",
          "model_module_version": "1.5.0",
          "model_name": "HTMLModel",
          "state": {
            "_dom_classes": [],
            "_model_module": "@jupyter-widgets/controls",
            "_model_module_version": "1.5.0",
            "_model_name": "HTMLModel",
            "_view_count": null,
            "_view_module": "@jupyter-widgets/controls",
            "_view_module_version": "1.5.0",
            "_view_name": "HTMLView",
            "description": "",
            "description_tooltip": null,
            "layout": "IPY_MODEL_e4789ba924e746a3ab1a1cd81076f81e",
            "placeholder": "​",
            "style": "IPY_MODEL_63313dff10e048238e7a2fbe296e62b6",
            "value": "Downloading https://raw.githubusercontent.com/stanfordnlp/stanza-resources/main/resources_1.4.0.json: "
          }
        },
        "bd4cf13f231c49748820ae685f79ce43": {
          "model_module": "@jupyter-widgets/controls",
          "model_module_version": "1.5.0",
          "model_name": "HTMLModel",
          "state": {
            "_dom_classes": [],
            "_model_module": "@jupyter-widgets/controls",
            "_model_module_version": "1.5.0",
            "_model_name": "HTMLModel",
            "_view_count": null,
            "_view_module": "@jupyter-widgets/controls",
            "_view_module_version": "1.5.0",
            "_view_name": "HTMLView",
            "description": "",
            "description_tooltip": null,
            "layout": "IPY_MODEL_19c83cfa8a1543ce85206fc9a30c4d43",
            "placeholder": "​",
            "style": "IPY_MODEL_d8518b05618d4996853aa3e808115c78",
            "value": "Downloading https://raw.githubusercontent.com/stanfordnlp/stanza-resources/main/resources_1.4.0.json: "
          }
        },
        "c707e038f7fd4a3f85b93edd73333323": {
          "model_module": "@jupyter-widgets/base",
          "model_module_version": "1.2.0",
          "model_name": "LayoutModel",
          "state": {
            "_model_module": "@jupyter-widgets/base",
            "_model_module_version": "1.2.0",
            "_model_name": "LayoutModel",
            "_view_count": null,
            "_view_module": "@jupyter-widgets/base",
            "_view_module_version": "1.2.0",
            "_view_name": "LayoutView",
            "align_content": null,
            "align_items": null,
            "align_self": null,
            "border": null,
            "bottom": null,
            "display": null,
            "flex": null,
            "flex_flow": null,
            "grid_area": null,
            "grid_auto_columns": null,
            "grid_auto_flow": null,
            "grid_auto_rows": null,
            "grid_column": null,
            "grid_gap": null,
            "grid_row": null,
            "grid_template_areas": null,
            "grid_template_columns": null,
            "grid_template_rows": null,
            "height": null,
            "justify_content": null,
            "justify_items": null,
            "left": null,
            "margin": null,
            "max_height": null,
            "max_width": null,
            "min_height": null,
            "min_width": null,
            "object_fit": null,
            "object_position": null,
            "order": null,
            "overflow": null,
            "overflow_x": null,
            "overflow_y": null,
            "padding": null,
            "right": null,
            "top": null,
            "visibility": null,
            "width": null
          }
        },
        "cbf5d66be0e84ba08e7bf49b67cc0d9c": {
          "model_module": "@jupyter-widgets/controls",
          "model_module_version": "1.5.0",
          "model_name": "HBoxModel",
          "state": {
            "_dom_classes": [],
            "_model_module": "@jupyter-widgets/controls",
            "_model_module_version": "1.5.0",
            "_model_name": "HBoxModel",
            "_view_count": null,
            "_view_module": "@jupyter-widgets/controls",
            "_view_module_version": "1.5.0",
            "_view_name": "HBoxView",
            "box_style": "",
            "children": [
              "IPY_MODEL_5d70964e300c49f580644064bbd7bfc9",
              "IPY_MODEL_adc166750eb34a44a778d82c67961689",
              "IPY_MODEL_73868db973bb4c3cb26cb4a30f5522ce"
            ],
            "layout": "IPY_MODEL_cceb6d650c324cdfb72f1139e2ec48a9"
          }
        },
        "cceb6d650c324cdfb72f1139e2ec48a9": {
          "model_module": "@jupyter-widgets/base",
          "model_module_version": "1.2.0",
          "model_name": "LayoutModel",
          "state": {
            "_model_module": "@jupyter-widgets/base",
            "_model_module_version": "1.2.0",
            "_model_name": "LayoutModel",
            "_view_count": null,
            "_view_module": "@jupyter-widgets/base",
            "_view_module_version": "1.2.0",
            "_view_name": "LayoutView",
            "align_content": null,
            "align_items": null,
            "align_self": null,
            "border": null,
            "bottom": null,
            "display": null,
            "flex": null,
            "flex_flow": null,
            "grid_area": null,
            "grid_auto_columns": null,
            "grid_auto_flow": null,
            "grid_auto_rows": null,
            "grid_column": null,
            "grid_gap": null,
            "grid_row": null,
            "grid_template_areas": null,
            "grid_template_columns": null,
            "grid_template_rows": null,
            "height": null,
            "justify_content": null,
            "justify_items": null,
            "left": null,
            "margin": null,
            "max_height": null,
            "max_width": null,
            "min_height": null,
            "min_width": null,
            "object_fit": null,
            "object_position": null,
            "order": null,
            "overflow": null,
            "overflow_x": null,
            "overflow_y": null,
            "padding": null,
            "right": null,
            "top": null,
            "visibility": null,
            "width": null
          }
        },
        "cd06e7becf374cd2bc808ecb16f53411": {
          "model_module": "@jupyter-widgets/base",
          "model_module_version": "1.2.0",
          "model_name": "LayoutModel",
          "state": {
            "_model_module": "@jupyter-widgets/base",
            "_model_module_version": "1.2.0",
            "_model_name": "LayoutModel",
            "_view_count": null,
            "_view_module": "@jupyter-widgets/base",
            "_view_module_version": "1.2.0",
            "_view_name": "LayoutView",
            "align_content": null,
            "align_items": null,
            "align_self": null,
            "border": null,
            "bottom": null,
            "display": null,
            "flex": null,
            "flex_flow": null,
            "grid_area": null,
            "grid_auto_columns": null,
            "grid_auto_flow": null,
            "grid_auto_rows": null,
            "grid_column": null,
            "grid_gap": null,
            "grid_row": null,
            "grid_template_areas": null,
            "grid_template_columns": null,
            "grid_template_rows": null,
            "height": null,
            "justify_content": null,
            "justify_items": null,
            "left": null,
            "margin": null,
            "max_height": null,
            "max_width": null,
            "min_height": null,
            "min_width": null,
            "object_fit": null,
            "object_position": null,
            "order": null,
            "overflow": null,
            "overflow_x": null,
            "overflow_y": null,
            "padding": null,
            "right": null,
            "top": null,
            "visibility": null,
            "width": null
          }
        },
        "d8518b05618d4996853aa3e808115c78": {
          "model_module": "@jupyter-widgets/controls",
          "model_module_version": "1.5.0",
          "model_name": "DescriptionStyleModel",
          "state": {
            "_model_module": "@jupyter-widgets/controls",
            "_model_module_version": "1.5.0",
            "_model_name": "DescriptionStyleModel",
            "_view_count": null,
            "_view_module": "@jupyter-widgets/base",
            "_view_module_version": "1.2.0",
            "_view_name": "StyleView",
            "description_width": ""
          }
        },
        "dca06e6ea46f4aceb45598d344ec0104": {
          "model_module": "@jupyter-widgets/controls",
          "model_module_version": "1.5.0",
          "model_name": "HBoxModel",
          "state": {
            "_dom_classes": [],
            "_model_module": "@jupyter-widgets/controls",
            "_model_module_version": "1.5.0",
            "_model_name": "HBoxModel",
            "_view_count": null,
            "_view_module": "@jupyter-widgets/controls",
            "_view_module_version": "1.5.0",
            "_view_name": "HBoxView",
            "box_style": "",
            "children": [
              "IPY_MODEL_5f9beec749c347c39e708aa80368905a",
              "IPY_MODEL_66908018c4a744b0ad64fc04a169b06f",
              "IPY_MODEL_3458046c184e4524a1cfa5c06f9de31c"
            ],
            "layout": "IPY_MODEL_2e38a5bbc44745ab9271d75c3cc3dc4d"
          }
        },
        "df313896c98f4e1fba652b4e4eb198f5": {
          "model_module": "@jupyter-widgets/base",
          "model_module_version": "1.2.0",
          "model_name": "LayoutModel",
          "state": {
            "_model_module": "@jupyter-widgets/base",
            "_model_module_version": "1.2.0",
            "_model_name": "LayoutModel",
            "_view_count": null,
            "_view_module": "@jupyter-widgets/base",
            "_view_module_version": "1.2.0",
            "_view_name": "LayoutView",
            "align_content": null,
            "align_items": null,
            "align_self": null,
            "border": null,
            "bottom": null,
            "display": null,
            "flex": null,
            "flex_flow": null,
            "grid_area": null,
            "grid_auto_columns": null,
            "grid_auto_flow": null,
            "grid_auto_rows": null,
            "grid_column": null,
            "grid_gap": null,
            "grid_row": null,
            "grid_template_areas": null,
            "grid_template_columns": null,
            "grid_template_rows": null,
            "height": null,
            "justify_content": null,
            "justify_items": null,
            "left": null,
            "margin": null,
            "max_height": null,
            "max_width": null,
            "min_height": null,
            "min_width": null,
            "object_fit": null,
            "object_position": null,
            "order": null,
            "overflow": null,
            "overflow_x": null,
            "overflow_y": null,
            "padding": null,
            "right": null,
            "top": null,
            "visibility": null,
            "width": null
          }
        },
        "dfcea1f1983244738f01ded897b3c2bc": {
          "model_module": "@jupyter-widgets/base",
          "model_module_version": "1.2.0",
          "model_name": "LayoutModel",
          "state": {
            "_model_module": "@jupyter-widgets/base",
            "_model_module_version": "1.2.0",
            "_model_name": "LayoutModel",
            "_view_count": null,
            "_view_module": "@jupyter-widgets/base",
            "_view_module_version": "1.2.0",
            "_view_name": "LayoutView",
            "align_content": null,
            "align_items": null,
            "align_self": null,
            "border": null,
            "bottom": null,
            "display": null,
            "flex": null,
            "flex_flow": null,
            "grid_area": null,
            "grid_auto_columns": null,
            "grid_auto_flow": null,
            "grid_auto_rows": null,
            "grid_column": null,
            "grid_gap": null,
            "grid_row": null,
            "grid_template_areas": null,
            "grid_template_columns": null,
            "grid_template_rows": null,
            "height": null,
            "justify_content": null,
            "justify_items": null,
            "left": null,
            "margin": null,
            "max_height": null,
            "max_width": null,
            "min_height": null,
            "min_width": null,
            "object_fit": null,
            "object_position": null,
            "order": null,
            "overflow": null,
            "overflow_x": null,
            "overflow_y": null,
            "padding": null,
            "right": null,
            "top": null,
            "visibility": null,
            "width": null
          }
        },
        "e4789ba924e746a3ab1a1cd81076f81e": {
          "model_module": "@jupyter-widgets/base",
          "model_module_version": "1.2.0",
          "model_name": "LayoutModel",
          "state": {
            "_model_module": "@jupyter-widgets/base",
            "_model_module_version": "1.2.0",
            "_model_name": "LayoutModel",
            "_view_count": null,
            "_view_module": "@jupyter-widgets/base",
            "_view_module_version": "1.2.0",
            "_view_name": "LayoutView",
            "align_content": null,
            "align_items": null,
            "align_self": null,
            "border": null,
            "bottom": null,
            "display": null,
            "flex": null,
            "flex_flow": null,
            "grid_area": null,
            "grid_auto_columns": null,
            "grid_auto_flow": null,
            "grid_auto_rows": null,
            "grid_column": null,
            "grid_gap": null,
            "grid_row": null,
            "grid_template_areas": null,
            "grid_template_columns": null,
            "grid_template_rows": null,
            "height": null,
            "justify_content": null,
            "justify_items": null,
            "left": null,
            "margin": null,
            "max_height": null,
            "max_width": null,
            "min_height": null,
            "min_width": null,
            "object_fit": null,
            "object_position": null,
            "order": null,
            "overflow": null,
            "overflow_x": null,
            "overflow_y": null,
            "padding": null,
            "right": null,
            "top": null,
            "visibility": null,
            "width": null
          }
        },
        "e996b195709549aa81b1e918eb07c26e": {
          "model_module": "@jupyter-widgets/base",
          "model_module_version": "1.2.0",
          "model_name": "LayoutModel",
          "state": {
            "_model_module": "@jupyter-widgets/base",
            "_model_module_version": "1.2.0",
            "_model_name": "LayoutModel",
            "_view_count": null,
            "_view_module": "@jupyter-widgets/base",
            "_view_module_version": "1.2.0",
            "_view_name": "LayoutView",
            "align_content": null,
            "align_items": null,
            "align_self": null,
            "border": null,
            "bottom": null,
            "display": null,
            "flex": null,
            "flex_flow": null,
            "grid_area": null,
            "grid_auto_columns": null,
            "grid_auto_flow": null,
            "grid_auto_rows": null,
            "grid_column": null,
            "grid_gap": null,
            "grid_row": null,
            "grid_template_areas": null,
            "grid_template_columns": null,
            "grid_template_rows": null,
            "height": null,
            "justify_content": null,
            "justify_items": null,
            "left": null,
            "margin": null,
            "max_height": null,
            "max_width": null,
            "min_height": null,
            "min_width": null,
            "object_fit": null,
            "object_position": null,
            "order": null,
            "overflow": null,
            "overflow_x": null,
            "overflow_y": null,
            "padding": null,
            "right": null,
            "top": null,
            "visibility": null,
            "width": null
          }
        },
        "f664b44346324ca7b2fe1a2a0d5549b1": {
          "model_module": "@jupyter-widgets/controls",
          "model_module_version": "1.5.0",
          "model_name": "FloatProgressModel",
          "state": {
            "_dom_classes": [],
            "_model_module": "@jupyter-widgets/controls",
            "_model_module_version": "1.5.0",
            "_model_name": "FloatProgressModel",
            "_view_count": null,
            "_view_module": "@jupyter-widgets/controls",
            "_view_module_version": "1.5.0",
            "_view_name": "ProgressView",
            "bar_style": "success",
            "description": "",
            "description_tooltip": null,
            "layout": "IPY_MODEL_aea67f96a0634ccfa16f540896c4969d",
            "max": 25998,
            "min": 0,
            "orientation": "horizontal",
            "style": "IPY_MODEL_075c7a8894444859bc2deb14b8430f66",
            "value": 25998
          }
        },
        "fa43dfa6653e4c1eaab8de06090775e4": {
          "model_module": "@jupyter-widgets/controls",
          "model_module_version": "1.5.0",
          "model_name": "ProgressStyleModel",
          "state": {
            "_model_module": "@jupyter-widgets/controls",
            "_model_module_version": "1.5.0",
            "_model_name": "ProgressStyleModel",
            "_view_count": null,
            "_view_module": "@jupyter-widgets/base",
            "_view_module_version": "1.2.0",
            "_view_name": "StyleView",
            "bar_color": null,
            "description_width": ""
          }
        }
      }
    }
  },
  "nbformat": 4,
  "nbformat_minor": 0
}
